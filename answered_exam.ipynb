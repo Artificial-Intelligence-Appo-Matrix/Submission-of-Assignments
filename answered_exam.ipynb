{
 "cells": [
  {
   "cell_type": "markdown",
   "metadata": {},
   "source": [
    "# **Exam**"
   ]
  },
  {
   "cell_type": "markdown",
   "metadata": {},
   "source": [
    "## Name Of Student: ________Solution File"
   ]
  },
  {
   "cell_type": "markdown",
   "metadata": {},
   "source": [
    "## **Section A: Short Answer & Coding Questions**                                                    "
   ]
  },
  {
   "cell_type": "markdown",
   "metadata": {},
   "source": [
    "### **Modules in Python:**"
   ]
  },
  {
   "cell_type": "markdown",
   "metadata": {},
   "source": [
    "**a) What is a module in Python? How does it improve code reusability?**"
   ]
  },
  {
   "cell_type": "code",
   "execution_count": 67,
   "metadata": {},
   "outputs": [],
   "source": [
    "# A module in Python is a file containing Python code, which can include functions, classes, and variables.\n",
    "#  It improves code reusability by allowing code to be written once and imported multiple times in different programs."
   ]
  },
  {
   "cell_type": "markdown",
   "metadata": {},
   "source": [
    "**b) Explain the difference between built-in modules and user-defined modules.**"
   ]
  },
  {
   "cell_type": "code",
   "execution_count": 68,
   "metadata": {},
   "outputs": [],
   "source": [
    "# Built-in modules are pre-installed with Python (e.g., os, sys, math), \n",
    "# while user-defined modules are created by users to group reusable code in separate files."
   ]
  },
  {
   "cell_type": "markdown",
   "metadata": {},
   "source": [
    "### **NumPy Universal Functions:**"
   ]
  },
  {
   "cell_type": "markdown",
   "metadata": {},
   "source": [
    "**a) What are universal functions in NumPy? Provide two examples.**"
   ]
  },
  {
   "cell_type": "code",
   "execution_count": 64,
   "metadata": {},
   "outputs": [],
   "source": [
    "# Universal functions (ufuncs) in NumPy operate element-wise on arrays. Examples: np.exp(), np.sin(), np.sqrt()."
   ]
  },
  {
   "cell_type": "markdown",
   "metadata": {},
   "source": [
    "**b) Write a Python program that creates a NumPy array and applies \"np.exp()\", \"np.sin()\", and \"np.sqrt()\" on it.**"
   ]
  },
  {
   "cell_type": "code",
   "execution_count": 4,
   "metadata": {},
   "outputs": [
    {
     "name": "stdout",
     "output_type": "stream",
     "text": [
      "[2.71828183e+00 5.45981500e+01 8.10308393e+03] [ 0.84147098 -0.7568025   0.41211849] [1. 2. 3.]\n"
     ]
    }
   ],
   "source": [
    "import numpy as np\n",
    "arr = np.array([1, 4, 9])\n",
    "exp_arr = np.exp(arr)\n",
    "sin_arr = np.sin(arr)\n",
    "sqrt_arr = np.sqrt(arr)\n",
    "print(exp_arr, sin_arr, sqrt_arr)"
   ]
  },
  {
   "cell_type": "markdown",
   "metadata": {},
   "source": [
    "### **Pandas Operations:**"
   ]
  },
  {
   "cell_type": "markdown",
   "metadata": {},
   "source": [
    "**a) What is the difference between a Pandas Series and DataFrame?**"
   ]
  },
  {
   "cell_type": "code",
   "execution_count": 63,
   "metadata": {},
   "outputs": [],
   "source": [
    "# A Pandas Series is a one-dimensional labeled array, whereas a DataFrame is a two-dimensional table-like structure."
   ]
  },
  {
   "cell_type": "markdown",
   "metadata": {},
   "source": [
    "**b) Write a Python program to create two Pandas Series and concatenate them.**"
   ]
  },
  {
   "cell_type": "code",
   "execution_count": 6,
   "metadata": {},
   "outputs": [
    {
     "name": "stdout",
     "output_type": "stream",
     "text": [
      "0    1\n",
      "1    2\n",
      "2    3\n",
      "0    4\n",
      "1    5\n",
      "2    6\n",
      "dtype: int64\n"
     ]
    }
   ],
   "source": [
    "import pandas as pd\n",
    "s1 = pd.Series([1, 2, 3])\n",
    "s2 = pd.Series([4, 5, 6])\n",
    "concat_series = pd.concat([s1, s2])\n",
    "print(concat_series)"
   ]
  },
  {
   "cell_type": "markdown",
   "metadata": {},
   "source": [
    "### **File Handling in Python:**"
   ]
  },
  {
   "cell_type": "markdown",
   "metadata": {},
   "source": [
    "**a) What are the different modes available for opening a file in Python? Explain with examples.**"
   ]
  },
  {
   "cell_type": "code",
   "execution_count": 62,
   "metadata": {},
   "outputs": [],
   "source": [
    "# Modes include 'r' (read), 'w' (write), 'a' (append), 'b' (binary), and 'x' (exclusive creation). Example: open('file.txt', 'w')"
   ]
  },
  {
   "cell_type": "markdown",
   "metadata": {},
   "source": [
    "**b) Write a Python program that reads a text file and counts the number of words in it.**"
   ]
  },
  {
   "cell_type": "code",
   "execution_count": 32,
   "metadata": {},
   "outputs": [
    {
     "name": "stdout",
     "output_type": "stream",
     "text": [
      "Word Count: 34\n"
     ]
    }
   ],
   "source": [
    "with open('sample.txt', 'r') as file:\n",
    "    text = file.read()\n",
    "    word_count = len(text.split(\" \"))\n",
    "    #sdfg fdg.\n",
    "print(f'Word Count: {word_count}')"
   ]
  },
  {
   "cell_type": "markdown",
   "metadata": {},
   "source": [
    "### **Random Module:**"
   ]
  },
  {
   "cell_type": "markdown",
   "metadata": {},
   "source": [
    "**a) What is the use of the random module in Python?**"
   ]
  },
  {
   "cell_type": "code",
   "execution_count": 61,
   "metadata": {},
   "outputs": [],
   "source": [
    "# The random module is used for generating random numbers, selections, and shuffling data."
   ]
  },
  {
   "cell_type": "code",
   "execution_count": 72,
   "metadata": {},
   "outputs": [
    {
     "data": {
      "text/plain": [
       "2.512976405615408"
      ]
     },
     "execution_count": 72,
     "metadata": {},
     "output_type": "execute_result"
    }
   ],
   "source": [
    "import random\n",
    "import numpy as np\n",
    "rand1=random.randint(1,5)\n",
    "rand2= np.random.rand()\n",
    "rand3 =rand1+rand2\n",
    "rand3"
   ]
  },
  {
   "cell_type": "markdown",
   "metadata": {},
   "source": [
    "**b) Write a Python program to generate a 6-digit OTP using the random module.**"
   ]
  },
  {
   "cell_type": "code",
   "execution_count": 60,
   "metadata": {},
   "outputs": [
    {
     "name": "stdout",
     "output_type": "stream",
     "text": [
      "Generated OTP: 274933\n"
     ]
    }
   ],
   "source": [
    "import random\n",
    "# otp = ''.join([str(random.randint(0, 9)) for otp in range(6)])\n",
    "otp=''\n",
    "ch= ['A',]\n",
    "for i in range(6):\n",
    "    st1=random.randint(0,9)\n",
    "    st2=\n",
    "    otp=otp+str(st1)\n",
    "print(f'Generated OTP: {otp}')"
   ]
  },
  {
   "cell_type": "markdown",
   "metadata": {},
   "source": [
    "### **Time and DateTime Module:**"
   ]
  },
  {
   "cell_type": "markdown",
   "metadata": {},
   "source": [
    "**a) Explain the difference between the time and datetime modules in Python.**"
   ]
  },
  {
   "cell_type": "code",
   "execution_count": 60,
   "metadata": {},
   "outputs": [],
   "source": [
    "# The time module provides functions for working with timestamps, whereas the datetime module allows manipulation of date and time objects."
   ]
  },
  {
   "cell_type": "markdown",
   "metadata": {},
   "source": [
    "**b) Write a Python program to print the current date and time in \"YYYY-MM-DD HH:MM:SS\" format.**"
   ]
  },
  {
   "cell_type": "code",
   "execution_count": 68,
   "metadata": {},
   "outputs": [
    {
     "name": "stdout",
     "output_type": "stream",
     "text": [
      "Output:  2025-Feb-18-- => 04:04:49  Day of Year=> 49\n"
     ]
    }
   ],
   "source": [
    "import datetime\n",
    "now = datetime.datetime.now()\n",
    "dy=now.strftime(\"%j\")\n",
    "print('Output: ',now.strftime('%Y-%b-%d-- => %I:%M:%S  Day of Year=>'),dy[1:])"
   ]
  },
  {
   "cell_type": "markdown",
   "metadata": {},
   "source": [
    "### **Exception Handling:**"
   ]
  },
  {
   "cell_type": "markdown",
   "metadata": {},
   "source": [
    "**a) What is an exception in Python? How does exception handling improve program stability?**"
   ]
  },
  {
   "cell_type": "code",
   "execution_count": 59,
   "metadata": {},
   "outputs": [],
   "source": [
    "# An exception is an error that occurs during program execution. Handling exceptions using 'try-except' prevents crashes."
   ]
  },
  {
   "cell_type": "markdown",
   "metadata": {},
   "source": [
    "**b) Write a Python program that handles division by zero and invalid input exceptions using \"try-except\".**"
   ]
  },
  {
   "cell_type": "code",
   "execution_count": 76,
   "metadata": {},
   "outputs": [
    {
     "name": "stdin",
     "output_type": "stream",
     "text": [
      "Enter numerator:  5\n",
      "Enter denominator:  4\n"
     ]
    },
    {
     "name": "stdout",
     "output_type": "stream",
     "text": [
      "1.25\n",
      "Okkk\n"
     ]
    }
   ],
   "source": [
    "try:\n",
    "    a = int(input('Enter numerator: '))\n",
    "    b = int(input('Enter denominator: '))\n",
    "    print(a / b)\n",
    "except ZeroDivisionError:\n",
    "    print('Cannot divide by zero!')\n",
    "except ValueError:\n",
    "    print('Invalid input!')\n",
    "finally :\n",
    "    print(\"Okkk\")\n",
    "    "
   ]
  },
  {
   "cell_type": "markdown",
   "metadata": {},
   "source": [
    "### **Object-Oriented Programming (OOP) in Python:**"
   ]
  },
  {
   "cell_type": "markdown",
   "metadata": {},
   "source": [
    "**a) What is a class in Python? How does it differ from an object?**"
   ]
  },
  {
   "cell_type": "code",
   "execution_count": 58,
   "metadata": {},
   "outputs": [],
   "source": [
    "# A class is a blueprint for creating objects, while an object is an instance of a class."
   ]
  },
  {
   "cell_type": "markdown",
   "metadata": {},
   "source": [
    "**b) Write a Python class BankAccount with attributes \"account_number\", \"balance\", and methods \"deposit()\" and \"withdraw()\".**\n",
    "\n",
    " **Create an object and perform transactions.**"
   ]
  },
  {
   "cell_type": "code",
   "execution_count": 90,
   "metadata": {},
   "outputs": [
    {
     "name": "stdout",
     "output_type": "stream",
     "text": [
      "Acc No 12345 | Balance 1000\n",
      "Deposited: 500, New Balance: 1500\n",
      "Withdrawn: 200, New Balance: 1300\n"
     ]
    }
   ],
   "source": [
    "class BankAccount:\n",
    "    def __init__(self, account_number, balance):\n",
    "        self.account_number = account_number\n",
    "        self.balance = balance\n",
    "\n",
    "    def deposit(self, amount):\n",
    "        self.balance += amount\n",
    "        print(f'Deposited: {amount}, New Balance: {self.balance}')\n",
    "\n",
    "    def withdraw(self, amount):\n",
    "        if amount > self.balance:\n",
    "            print('Insufficient funds!')\n",
    "        else:\n",
    "            self.balance -= amount\n",
    "            print(f'Withdrawn: {amount}, New Balance: {self.balance}')\n",
    "\n",
    "# Creating an object and performing transactions\n",
    "acc = BankAccount(12345, 1000)\n",
    "print(\"Acc No\",acc.account_number,\"| Balance\" , acc.balance)\n",
    "acc.deposit(500)\n",
    "acc.withdraw(200)"
   ]
  },
  {
   "cell_type": "markdown",
   "metadata": {},
   "source": [
    "### **Inheritance in Python:**"
   ]
  },
  {
   "cell_type": "markdown",
   "metadata": {},
   "source": [
    "**a) Explain inheritance in Python. What is the purpose of the \"super()\" function?**"
   ]
  },
  {
   "cell_type": "code",
   "execution_count": 57,
   "metadata": {},
   "outputs": [],
   "source": [
    "# Inheritance allows one class to derive properties and methods from another. The 'super()' function calls the parent class methods."
   ]
  },
  {
   "cell_type": "markdown",
   "metadata": {},
   "source": [
    "**b) Write a Python program where \"ElectricCar\" inherits from \"Car\" and has an additional attribute \"battery_capacity\".**"
   ]
  },
  {
   "cell_type": "code",
   "execution_count": 94,
   "metadata": {},
   "outputs": [
    {
     "name": "stdout",
     "output_type": "stream",
     "text": [
      "Tesla Model S 100 kWh\n"
     ]
    }
   ],
   "source": [
    "class Car:\n",
    "    def __init__(self, brand, model):\n",
    "        self.brand = brand\n",
    "        self.model = model\n",
    "\n",
    "class ElectricCar(Car):\n",
    "    def __init__(self, brand, model, battery_capacity):\n",
    "        super().__init__(brand, model)\n",
    "        self.battery_capacity = battery_capacity\n",
    "\n",
    "e_car = ElectricCar('Tesla', 'Model S', '100 kWh')\n",
    "print(e_car.brand, e_car.model, e_car.battery_capacity)"
   ]
  },
  {
   "cell_type": "markdown",
   "metadata": {},
   "source": [
    "### **Magic Methods in Python:**"
   ]
  },
  {
   "cell_type": "markdown",
   "metadata": {},
   "source": [
    "**a) What is the purpose of \"\"__ init __()\"\" in Python classes?**"
   ]
  },
  {
   "cell_type": "code",
   "execution_count": 45,
   "metadata": {},
   "outputs": [],
   "source": [
    "## Answer Here\n",
    "#The __init__() method is the constructor in Python classes. \n",
    "# It is automatically called when an object is created and is used to initialize instance attributes.\n"
   ]
  },
  {
   "cell_type": "markdown",
   "metadata": {},
   "source": [
    "**b) Write a class Student with attributes \"name\" and \"marks\". Define a method \"display()\" to show student details.**\n",
    "\n",
    " **Create an object of this class.**"
   ]
  },
  {
   "cell_type": "code",
   "execution_count": 106,
   "metadata": {},
   "outputs": [
    {
     "name": "stdin",
     "output_type": "stream",
     "text": [
      "Enter Name of student :  asdf\n",
      "Enter Marks of student :  2\n"
     ]
    },
    {
     "name": "stdout",
     "output_type": "stream",
     "text": [
      "Student Name: asdf, Marks: 2\n",
      "__________________\n"
     ]
    },
    {
     "name": "stdin",
     "output_type": "stream",
     "text": [
      "Enter Name of student :  sdf\n",
      "Enter Marks of student :  2\n"
     ]
    },
    {
     "name": "stdout",
     "output_type": "stream",
     "text": [
      "Student Name: sdf, Marks: 2\n"
     ]
    }
   ],
   "source": [
    "## Answer Here\n",
    "class Student:\n",
    "    name=''\n",
    "    marks=''\n",
    "    def inp(self):\n",
    "        self.name=input(\"Enter Name of student : \")\n",
    "        self.marks=input(\"Enter Marks of student : \")\n",
    "    def display(self):\n",
    "        print(f\"Student Name: {self.name}, Marks: {self.marks}\")\n",
    "\n",
    "# Creating an object and displaying details\n",
    "student1 = Student()\n",
    "student1.inp()\n",
    "student1.display()\n",
    "\n",
    "print(\"__________________\")\n",
    "s2=Student()\n",
    "s2.inp()\n",
    "s2.display()\n"
   ]
  },
  {
   "cell_type": "markdown",
   "metadata": {},
   "source": [
    "### **NumPy Arrays vs. Python Lists:**"
   ]
  },
  {
   "cell_type": "markdown",
   "metadata": {},
   "source": [
    "**a) Why is a NumPy \"array\" more efficient than a Python \"list\" for numerical operations? Also Prove the efficiency.**"
   ]
  },
  {
   "cell_type": "code",
   "execution_count": 6,
   "metadata": {},
   "outputs": [
    {
     "data": {
      "text/plain": [
       "' Memory Efficiency: NumPy arrays require less memory than Python lists because they store data in contiguous memory blocks, while lists store references to objects.\\nFaster Computation: NumPy performs operations using C-optimized functions, making it much faster than lists.\\nVectorization: NumPy allows element-wise operations without explicit loops, improving performance.'"
      ]
     },
     "execution_count": 6,
     "metadata": {},
     "output_type": "execute_result"
    }
   ],
   "source": [
    "## Answer Here\n",
    "\"\"\" Memory Efficiency: NumPy arrays require less memory than Python lists because they store data in contiguous memory blocks, while lists store references to objects.\n",
    "Faster Computation: NumPy performs operations using C-optimized functions, making it much faster than lists.\n",
    "Vectorization: NumPy allows element-wise operations without explicit loops, improving performance.\"\"\""
   ]
  },
  {
   "cell_type": "markdown",
   "metadata": {},
   "source": [
    "### **Pandas DataFrame Operations:**"
   ]
  },
  {
   "cell_type": "markdown",
   "metadata": {},
   "source": [
    "**a) Write a Python program to create a Pandas DataFrame with columns \"Name\" and \"Age\". Add a new column \"Grade\" to it.**"
   ]
  },
  {
   "cell_type": "code",
   "execution_count": 118,
   "metadata": {},
   "outputs": [
    {
     "name": "stdout",
     "output_type": "stream",
     "text": [
      "   Name  Age Grade\n",
      "0   Ali   10     A\n",
      "1  Sara   22     B\n",
      "2  John   19     A\n",
      "3   sdf   17     A\n"
     ]
    }
   ],
   "source": [
    "## Answer Here\n",
    "import pandas as pd\n",
    "\n",
    "\n",
    "data = {'Name': ['Ali', 'Sara', 'John','sdf'], 'Age': [10, 22, 19,17]}\n",
    "df = pd.DataFrame(data)\n",
    "\n",
    "\n",
    "df['Grade'] = ['A', 'B', 'A','A']\n",
    "\n",
    "print(df)\n"
   ]
  },
  {
   "cell_type": "markdown",
   "metadata": {},
   "source": [
    "### **Conditional Checking in Pandas:**"
   ]
  },
  {
   "cell_type": "markdown",
   "metadata": {},
   "source": [
    "**a) Write a Pandas program to filter a DataFrame where the \"Age\" column has values \"greater than 18\".**"
   ]
  },
  {
   "cell_type": "code",
   "execution_count": 124,
   "metadata": {},
   "outputs": [
    {
     "name": "stdout",
     "output_type": "stream",
     "text": [
      "   Name  Age Grade\n",
      "1  Sara   22     B\n",
      "2  John   19     A\n"
     ]
    }
   ],
   "source": [
    "## Answer Here\n",
    "\n",
    "\n",
    "filtered_df = df[df['Age'] > 18]\n",
    "print(filtered_df)\n"
   ]
  },
  {
   "cell_type": "markdown",
   "metadata": {},
   "source": [
    "### **Concatenating DataFrames in Pandas:**"
   ]
  },
  {
   "cell_type": "markdown",
   "metadata": {},
   "source": [
    "**a) Write a Python script to concatenate two Pandas DataFrames.**"
   ]
  },
  {
   "cell_type": "code",
   "execution_count": 130,
   "metadata": {},
   "outputs": [
    {
     "name": "stdout",
     "output_type": "stream",
     "text": [
      "   ID  Name\n",
      "0   1   Ali\n",
      "1   2  Sara\n",
      "2   3  John\n",
      "3   4  Emma\n"
     ]
    }
   ],
   "source": [
    "## Answer Here\n",
    "\n",
    "df1 = pd.DataFrame({'ID': [1, 2], 'Name': ['Ali', 'Sara']})\n",
    "df2 = pd.DataFrame({'ID': [3, 4], 'Name': ['John', 'Emma']})\n",
    "\n",
    "result_df = pd.concat([df1, df2], ignore_index=True)\n",
    "print(result_df)\n"
   ]
  },
  {
   "cell_type": "markdown",
   "metadata": {},
   "source": [
    "### **Custom Exception Handling:**"
   ]
  },
  {
   "cell_type": "markdown",
   "metadata": {},
   "source": [
    "**a) Write a custom exception class \"InvalidAgeError\". Raise this exception if a user inputs an \"age less than 18\".**"
   ]
  },
  {
   "cell_type": "code",
   "execution_count": 134,
   "metadata": {},
   "outputs": [
    {
     "name": "stdin",
     "output_type": "stream",
     "text": [
      "Enter your age:  52\n"
     ]
    },
    {
     "name": "stdout",
     "output_type": "stream",
     "text": [
      "Age is valid.\n"
     ]
    }
   ],
   "source": [
    "## Answer Here\n",
    "\n",
    "class InvalidAgeError(Exception):\n",
    "    \"\"\"Custom exception for invalid age.\"\"\"\n",
    "    def __init__(self, message=\"Age must be 18 or above\"):\n",
    "        self.message = message\n",
    "        super().__init__(self.message)\n",
    "\n",
    "\n",
    "try:\n",
    "    age = int(input(\"Enter your age: \"))\n",
    "    if age < 18:\n",
    "        raise InvalidAgeError()\n",
    "    print(\"Age is valid.\")\n",
    "except InvalidAgeError as e:\n",
    "    print(f\"Error: {e}\")\n"
   ]
  },
  {
   "cell_type": "markdown",
   "metadata": {},
   "source": [
    "## **Section B: Multiple Choice Questions**"
   ]
  },
  {
   "cell_type": "markdown",
   "metadata": {},
   "source": [
    "**What is the correct way to import all functions from a module?**\n",
    "\n",
    "a) import module\n",
    "\n",
    "b) from module import *\n",
    "\n",
    "c) import module as m\n",
    "\n",
    "d) include module\n"
   ]
  },
  {
   "cell_type": "markdown",
   "metadata": {},
   "source": [
    "**Answer**: b) from module import *"
   ]
  },
  {
   "cell_type": "markdown",
   "metadata": {},
   "source": [
    "**What will np.array([2,3,4]) + np.array([5,6,7]) return?**\n",
    "\n",
    "a) [10,18,28]\n",
    "\n",
    "b) [7,9,11]\n",
    "\n",
    "c) [2,3,4,5,6,7]\n",
    "\n",
    "d) Error"
   ]
  },
  {
   "cell_type": "markdown",
   "metadata": {},
   "source": [
    "**Answer**: b) [7,9,11]"
   ]
  },
  {
   "cell_type": "markdown",
   "metadata": {},
   "source": [
    "**What will random.rand(1,5) return?**\n",
    "\n",
    "a) A random integer between 1 and 5\n",
    "\n",
    "b) A random float between 1 and 5\n",
    "\n",
    "c) A random float between 0 and 1\n",
    "\n",
    "d) A random float array of shape (1,5)"
   ]
  },
  {
   "cell_type": "markdown",
   "metadata": {},
   "source": [
    "**Answer**: d) A random float array of shape (1,5)"
   ]
  },
  {
   "cell_type": "markdown",
   "metadata": {},
   "source": [
    "**Which of the following is NOT an exception in Python?**\n",
    "\n",
    "a) IndexError\n",
    "\n",
    "b) TypeError\n",
    "\n",
    "c) KeyError\n",
    "\n",
    "d) PrintError"
   ]
  },
  {
   "cell_type": "markdown",
   "metadata": {},
   "source": [
    "**Answer**:  d) PrintError"
   ]
  },
  {
   "cell_type": "markdown",
   "metadata": {},
   "source": [
    "**What does time.sleep(2) do in Python?**\n",
    "\n",
    "a) Pauses execution for 2 minutes\n",
    "\n",
    "b) Pauses execution for 2 seconds\n",
    "\n",
    "c) Terminates the program\n",
    "\n",
    "d) Converts time into seconds"
   ]
  },
  {
   "cell_type": "markdown",
   "metadata": {},
   "source": [
    "**Answer**: b) Pauses execution for 2 seconds"
   ]
  },
  {
   "cell_type": "markdown",
   "metadata": {},
   "source": [
    "**Which method is used to get the current system time?**\n",
    "\n",
    "a) time.current()\n",
    "\n",
    "b) time.today()\n",
    "\n",
    "c) time.time()\n",
    "\n",
    "d) time.now()"
   ]
  },
  {
   "cell_type": "markdown",
   "metadata": {},
   "source": [
    "**Answer**: c) time.time()"
   ]
  },
  {
   "cell_type": "markdown",
   "metadata": {},
   "source": [
    "**How do you create an instance of a class named Dog?**\n",
    "\n",
    "a) dog = Dog()\n",
    "\n",
    "b) Dog(dog)\n",
    "\n",
    "c) new Dog()\n",
    "\n",
    "d) dog = Dog.create()"
   ]
  },
  {
   "cell_type": "markdown",
   "metadata": {},
   "source": [
    "**Answer**: a) dog = Dog()"
   ]
  },
  {
   "cell_type": "markdown",
   "metadata": {},
   "source": [
    "**What will happen if a file does not exist when using open('data.txt', 'r')?**\n",
    "\n",
    "a) It will create a new file\n",
    "\n",
    "b) It will raise a FileNotFoundError\n",
    "\n",
    "c) It will return an empty file\n",
    "\n",
    "d) It will append data to an existing file"
   ]
  },
  {
   "cell_type": "markdown",
   "metadata": {},
   "source": [
    "**Answer**: b) It will raise a FileNotFoundError"
   ]
  },
  {
   "cell_type": "markdown",
   "metadata": {},
   "source": [
    "**Which of the following is TRUE about Python classes?**\n",
    "\n",
    "\n",
    "a) A class can contain both variables and methods\n",
    "\n",
    "b) An object cannot be created from a class\n",
    "\n",
    "c) Classes do not support inheritance\n",
    "\n",
    "d) Magic methods like __ init __() are optional but recommended"
   ]
  },
  {
   "cell_type": "markdown",
   "metadata": {},
   "source": [
    "**Answer**: a) A class can contain both variables and methods"
   ]
  },
  {
   "cell_type": "markdown",
   "metadata": {},
   "source": [
    "## **Additional Coding Questions**"
   ]
  },
  {
   "cell_type": "markdown",
   "metadata": {},
   "source": [
    "**Write a Pandas script to create a DataFrame with \"Name, Marks, and Grade\", then filter out students who \"scored above 80 marks\".**"
   ]
  },
  {
   "cell_type": "code",
   "execution_count": 69,
   "metadata": {},
   "outputs": [
    {
     "name": "stdout",
     "output_type": "stream",
     "text": [
      "      Name  Marks Grade\n",
      "0    Alice     85     A\n",
      "2  Charlie     90     A\n",
      "4     Emma     88     A\n"
     ]
    }
   ],
   "source": [
    "## Answer Here\n",
    "\n",
    "import pandas as pd\n",
    "\n",
    "\n",
    "data = {\n",
    "    \"Name\": [\"Alice\", \"Bob\", \"Charlie\", \"David\", \"Emma\"],\n",
    "    \"Marks\": [85, 76, 90, 65, 88],\n",
    "    \"Grade\": [\"A\", \"B\", \"A\", \"C\", \"A\"]\n",
    "}\n",
    "\n",
    "df = pd.DataFrame(data)\n",
    "\n",
    "\n",
    "filtered_df = df[df[\"Marks\"] > 80]\n",
    "\n",
    "print(filtered_df)\n"
   ]
  },
  {
   "cell_type": "markdown",
   "metadata": {},
   "source": [
    "**Write a class Employee with attributes \"name and salary\". Implement a method \"increase_salary()\" that increases \"salary by 10%\".**"
   ]
  },
  {
   "cell_type": "code",
   "execution_count": 70,
   "metadata": {},
   "outputs": [
    {
     "name": "stdout",
     "output_type": "stream",
     "text": [
      "New salary of John Doe is 55000.00\n"
     ]
    }
   ],
   "source": [
    "## Answer Here\n",
    "\n",
    "class Employee:\n",
    "    def __init__(self, name, salary):\n",
    "        self.name = name\n",
    "        self.salary = salary\n",
    "\n",
    "    def increase_salary(self):\n",
    "        self.salary *= 1.10 \n",
    "        print(f\"New salary of {self.name} is {self.salary:.2f}\")\n",
    "\n",
    "\n",
    "emp1 = Employee(\"John Doe\", 50000)\n",
    "emp1.increase_salary()\n"
   ]
  },
  {
   "cell_type": "markdown",
   "metadata": {},
   "source": [
    "**Write a Pandas program that reads a CSV file, Check NaN values, also create a pivot table with \"sum,mean and min aggfuncs\".**"
   ]
  },
  {
   "cell_type": "code",
   "execution_count": 44,
   "metadata": {},
   "outputs": [
    {
     "name": "stdout",
     "output_type": "stream",
     "text": [
      "NaN Values:\n",
      "\n",
      "Brand           0\n",
      "Model           0\n",
      "Year            0\n",
      "Engine_Size     0\n",
      "Fuel_Type       0\n",
      "Transmission    0\n",
      "Mileage         0\n",
      "Doors           0\n",
      "Owner_Count     0\n",
      "Price           0\n",
      "dtype: int64\n",
      "\n",
      "Pivot Table:\n",
      "\n"
     ]
    },
    {
     "name": "stderr",
     "output_type": "stream",
     "text": [
      "<>:5: SyntaxWarning: invalid escape sequence '\\c'\n",
      "<>:5: SyntaxWarning: invalid escape sequence '\\c'\n",
      "C:\\Users\\Ali\\AppData\\Local\\Temp\\ipykernel_9336\\968935802.py:5: SyntaxWarning: invalid escape sequence '\\c'\n",
      "  df = pd.read_csv('Datasets\\car_price_dataset.csv')\n"
     ]
    },
    {
     "data": {
      "text/html": [
       "<div>\n",
       "<style scoped>\n",
       "    .dataframe tbody tr th:only-of-type {\n",
       "        vertical-align: middle;\n",
       "    }\n",
       "\n",
       "    .dataframe tbody tr th {\n",
       "        vertical-align: top;\n",
       "    }\n",
       "\n",
       "    .dataframe thead tr th {\n",
       "        text-align: left;\n",
       "    }\n",
       "\n",
       "    .dataframe thead tr:last-of-type th {\n",
       "        text-align: right;\n",
       "    }\n",
       "</style>\n",
       "<table border=\"1\" class=\"dataframe\">\n",
       "  <thead>\n",
       "    <tr>\n",
       "      <th></th>\n",
       "      <th>sum</th>\n",
       "      <th>mean</th>\n",
       "      <th>min</th>\n",
       "    </tr>\n",
       "    <tr>\n",
       "      <th></th>\n",
       "      <th>Price</th>\n",
       "      <th>Price</th>\n",
       "      <th>Price</th>\n",
       "    </tr>\n",
       "    <tr>\n",
       "      <th>Brand</th>\n",
       "      <th></th>\n",
       "      <th></th>\n",
       "      <th></th>\n",
       "    </tr>\n",
       "  </thead>\n",
       "  <tbody>\n",
       "    <tr>\n",
       "      <th>Audi</th>\n",
       "      <td>9268690</td>\n",
       "      <td>8929.373796</td>\n",
       "      <td>2000</td>\n",
       "    </tr>\n",
       "    <tr>\n",
       "      <th>BMW</th>\n",
       "      <td>8695364</td>\n",
       "      <td>8704.068068</td>\n",
       "      <td>2000</td>\n",
       "    </tr>\n",
       "    <tr>\n",
       "      <th>Chevrolet</th>\n",
       "      <td>9042731</td>\n",
       "      <td>9015.683948</td>\n",
       "      <td>2000</td>\n",
       "    </tr>\n",
       "    <tr>\n",
       "      <th>Ford</th>\n",
       "      <td>9277494</td>\n",
       "      <td>8852.570611</td>\n",
       "      <td>2000</td>\n",
       "    </tr>\n",
       "    <tr>\n",
       "      <th>Honda</th>\n",
       "      <td>8743587</td>\n",
       "      <td>8665.596630</td>\n",
       "      <td>2000</td>\n",
       "    </tr>\n",
       "    <tr>\n",
       "      <th>Hyundai</th>\n",
       "      <td>8734388</td>\n",
       "      <td>8778.279397</td>\n",
       "      <td>2000</td>\n",
       "    </tr>\n",
       "    <tr>\n",
       "      <th>Kia</th>\n",
       "      <td>8666964</td>\n",
       "      <td>8880.086066</td>\n",
       "      <td>2000</td>\n",
       "    </tr>\n",
       "    <tr>\n",
       "      <th>Mercedes</th>\n",
       "      <td>8459242</td>\n",
       "      <td>8980.087049</td>\n",
       "      <td>2000</td>\n",
       "    </tr>\n",
       "    <tr>\n",
       "      <th>Toyota</th>\n",
       "      <td>8534239</td>\n",
       "      <td>8798.184536</td>\n",
       "      <td>2000</td>\n",
       "    </tr>\n",
       "    <tr>\n",
       "      <th>Volkswagen</th>\n",
       "      <td>9106945</td>\n",
       "      <td>8928.377451</td>\n",
       "      <td>2000</td>\n",
       "    </tr>\n",
       "  </tbody>\n",
       "</table>\n",
       "</div>"
      ],
      "text/plain": [
       "                sum         mean   min\n",
       "              Price        Price Price\n",
       "Brand                                 \n",
       "Audi        9268690  8929.373796  2000\n",
       "BMW         8695364  8704.068068  2000\n",
       "Chevrolet   9042731  9015.683948  2000\n",
       "Ford        9277494  8852.570611  2000\n",
       "Honda       8743587  8665.596630  2000\n",
       "Hyundai     8734388  8778.279397  2000\n",
       "Kia         8666964  8880.086066  2000\n",
       "Mercedes    8459242  8980.087049  2000\n",
       "Toyota      8534239  8798.184536  2000\n",
       "Volkswagen  9106945  8928.377451  2000"
      ]
     },
     "metadata": {},
     "output_type": "display_data"
    }
   ],
   "source": [
    "## Answer Here\n",
    "\n",
    "import pandas as pd\n",
    "\n",
    "df = pd.read_csv('Datasets\\car_price_dataset.csv')\n",
    "\n",
    "\n",
    "print(\"NaN Values:\\n\")\n",
    "d=df.isnull().sum()\n",
    "print(d)\n",
    "\n",
    "\n",
    "pivot_table = df.pivot_table(index='Brand', values='Price', aggfunc=['sum', 'mean', 'min'])\n",
    "\n",
    "print(\"\\nPivot Table:\\n\")\n",
    "display(pivot_table)\n"
   ]
  },
  {
   "cell_type": "markdown",
   "metadata": {},
   "source": [
    "### **Best Of Luck....**"
   ]
  }
 ],
 "metadata": {
  "kernelspec": {
   "display_name": "Python [conda env:base] *",
   "language": "python",
   "name": "conda-base-py"
  },
  "language_info": {
   "codemirror_mode": {
    "name": "ipython",
    "version": 3
   },
   "file_extension": ".py",
   "mimetype": "text/x-python",
   "name": "python",
   "nbconvert_exporter": "python",
   "pygments_lexer": "ipython3",
   "version": "3.12.7"
  }
 },
 "nbformat": 4,
 "nbformat_minor": 4
}
