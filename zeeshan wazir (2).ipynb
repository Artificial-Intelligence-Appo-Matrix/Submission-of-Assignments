{
 "cells": [
  {
   "cell_type": "markdown",
   "id": "f2dd6f3e",
   "metadata": {},
   "source": [
    "# AI & Machine Learning Practical & MCQ Exam\n",
    "**Date:** 2025-04-14\n",
    "**Instructor:** Muhammad Ali\n",
    "\n",
    "\n",
    "**Student Name:** _______________\n",
    "\n",
    "This exam is designed to evaluate your practical and theoretical understanding of Python, NumPy, Pandas, Exception Handling, OOP, File Handling, Sklearn models (Supervised Learning), and project tools like Streamlit and Tkinter.\n",
    "\n",
    "---"
   ]
  },
  {
   "cell_type": "markdown",
   "id": "b5d66b31",
   "metadata": {},
   "source": [
    "## Section 1: Multiple Choice Questions (MCQs)\n",
    "Answer the following questions by selecting the correct option.\n",
    "\n",
    "Q1. What will be the output of print(type([]) is list)?\n",
    "\n",
    "a) True\n",
    "\n",
    "b) False\n",
    "\n",
    "c) list\n",
    "\n",
    "d) TypeError\n",
    "\n",
    "\n",
    "\n",
    "Answer: \n",
    "\n",
    "Q2. Which of the following is used to handle exceptions in Python?\n",
    "\n",
    "a) catch\n",
    "\n",
    "b) handle\n",
    "\n",
    "c) try-except\n",
    "\n",
    "d) do-while\n",
    "\n",
    "\n",
    "\n",
    "Answer: \n",
    "\n",
    "Q3. What will try: x = 1/0 except ZeroDivisionError: x = 0 set x to?\n",
    "\n",
    "a) 1\n",
    "\n",
    "b) 0\n",
    "\n",
    "c) ZeroDivisionError\n",
    "\n",
    "d) None\n",
    "\n",
    "\n",
    "\n",
    "Answer: \n",
    "\n",
    "Q4. What is the output of bool(\"False\")?\n",
    "\n",
    "a) True\n",
    "\n",
    "b) False\n",
    "\n",
    "c) SyntaxError\n",
    "\n",
    "d) 0\n",
    "\n",
    "\n",
    "\n",
    "Answer: \n",
    "\n",
    "Q5. Which of the following will raise an exception?\n",
    "\n",
    "a) open(\"file.txt\", \"r\")\n",
    "\n",
    "b) print(1/0)\n",
    "\n",
    "c) int(\"abc\")\n",
    "\n",
    "d) All of the above\n",
    "\n",
    "\n",
    "\n",
    "Answer: \n",
    "\n",
    "Q6. What is the term for hiding internal object details?\n",
    "\n",
    "a) Polymorphism\n",
    "\n",
    "b) Inheritance\n",
    "\n",
    "c) Abstraction\n",
    "\n",
    "d) Encapsulation\n",
    "\n",
    "\n",
    "\n",
    "Answer: \n",
    "\n",
    "Q7. In Python, every class inherits from:\n",
    "\n",
    "a) Object\n",
    "\n",
    "b) Class\n",
    "\n",
    "c) Main\n",
    "\n",
    "d) Self\n",
    "\n",
    "\n",
    "\n",
    "Answer:\n",
    "\n",
    "Q8. What does __init__ do?\n",
    "\n",
    "a) Deletes an object\n",
    "\n",
    "b) Creates an object\n",
    "\n",
    "c) Initializes the object\n",
    "\n",
    "d) None\n",
    "\n",
    "\n",
    "\n",
    "Answer:\n",
    "\n",
    "Q9. Which keyword is used for inheritance?\n",
    "\n",
    "a) inherit\n",
    "\n",
    "b) extends\n",
    "\n",
    "c) base\n",
    "\n",
    "d) (No keyword, just pass parent in parentheses)\n",
    "\n",
    "\n",
    "\n",
    "Answer: \n",
    "\n",
    "Q10. What is method overriding?\n",
    "\n",
    "a) Changing parameter values\n",
    "\n",
    "b) Inheriting a method\n",
    "\n",
    "c) Redefining a parent method in child class\n",
    "\n",
    "d) Using a private method\n",
    "\n",
    "\n",
    "\n",
    "Answer: \n",
    "\n",
    "Q11. What mode is used to append to a file?\n",
    "\n",
    "a) r\n",
    "\n",
    "b) w\n",
    "\n",
    "c) a\n",
    "\n",
    "d) rw\n",
    "\n",
    "\n",
    "\n",
    "Answer: \n",
    "\n",
    "Q12. What does readlines() return?\n",
    "\n",
    "a) One line\n",
    "\n",
    "b) All lines as list\n",
    "\n",
    "c) Number of lines\n",
    "\n",
    "d) Last line only\n",
    "\n",
    "\n",
    "\n",
    "Answer: \n",
    "\n",
    "Q13. Which of the following automatically closes the file?\n",
    "\n",
    "a) open()\n",
    "\n",
    "b) file.close()\n",
    "\n",
    "c) with open() as f:\n",
    "\n",
    "d) None\n",
    "\n",
    "\n",
    "\n",
    "Answer: \n",
    "\n",
    "Q14. Which method is used to write a string to a file?\n",
    "\n",
    "a) append()\n",
    "\n",
    "b) add()\n",
    "\n",
    "c) write()\n",
    "\n",
    "d) save()\n",
    "\n",
    "\n",
    "\n",
    "Answer: \n",
    "\n",
    "Q15. What happens if you open a file in \"w\" mode that already exists?\n",
    "\n",
    "a) It is appended\n",
    "\n",
    "b) It is renamed\n",
    "\n",
    "c) It is deleted and a new file is created\n",
    "\n",
    "d) It raises an error\n",
    "\n",
    "\n",
    "\n",
    "Answer: \n",
    "\n",
    "Q16. NumPy arrays are:\n",
    "\n",
    "a) Slower than lists\n",
    "\n",
    "b) Homogeneous\n",
    "\n",
    "c) Heterogeneous\n",
    "\n",
    "d) None\n",
    "\n",
    "\n",
    "\n",
    "Answer: \n",
    "\n",
    "Q17. Which function creates an array of zeros in NumPy?\n",
    "\n",
    "a) np.empty()\n",
    "\n",
    "b) np.array(0)\n",
    "\n",
    "c) np.zeros()\n",
    "\n",
    "d) np.zero()\n",
    "\n",
    "\n",
    "\n",
    "Answer: \n",
    "\n",
    "Q18. How do you check for missing values in Pandas?\n",
    "\n",
    "a) df.is_missing()\n",
    "\n",
    "b) df.check_null()\n",
    "\n",
    "c) df.isnull()\n",
    "\n",
    "d) df.missing()\n",
    "\n",
    "\n",
    "\n",
    "Answer: \n",
    "\n",
    "Q19. Which method groups data in Pandas?\n",
    "\n",
    "a) group()\n",
    "\n",
    "b) df.groupby()\n",
    "\n",
    "c) cluster()\n",
    "\n",
    "d) df.partition()\n",
    "\n",
    "\n",
    "\n",
    "Answer: \n",
    "\n",
    "Q20. Which function is used to read CSV in Pandas?\n",
    "\n",
    "a) pd.readfile()\n",
    "\n",
    "b) pd.load()\n",
    "\n",
    "c) pd.read_csv()\n",
    "\n",
    "d) pd.open_csv()\n",
    "\n",
    "\n",
    "\n",
    "Answer: \n",
    "\n",
    "Q21. Which of the following is a supervised learning algorithm?\n",
    "\n",
    "a) KMeans\n",
    "\n",
    "b) DBSCAN\n",
    "\n",
    "c) Decision Tree\n",
    "\n",
    "d) PCA\n",
    "\n",
    "\n",
    "\n",
    "Answer:\n",
    "\n",
    "Q22. What is the purpose of train_test_split?\n",
    "\n",
    "a) To normalize data\n",
    "\n",
    "b) To separate features and labels\n",
    "\n",
    "c) To split data into training and testing sets\n",
    "\n",
    "d) To merge datasets\n",
    "\n",
    "\n",
    "\n",
    "Answer: \n",
    "\n",
    "\n",
    "Q23. Which metric is used for classification accuracy?\n",
    "\n",
    "a) MSE\n",
    "\n",
    "b) R2\n",
    "\n",
    "c) Accuracy Score\n",
    "\n",
    "d) RMSE\n",
    "\n",
    "\n",
    "\n",
    "Answer: \n",
    "\n",
    "Q24. Which model is used for binary classification?\n",
    "\n",
    "a) KMeans\n",
    "\n",
    "b) Logistic Regression\n",
    "\n",
    "c) Random Forest Regressor\n",
    "\n",
    "d) PCA\n",
    "\n",
    "\n",
    "\n",
    "Answer: \n",
    "\n",
    "Q25. What does fit() method do in sklearn models?\n",
    "\n",
    "a) Applies the model\n",
    "\n",
    "b) Trains the model\n",
    "\n",
    "c) Tests the model\n",
    "\n",
    "d) Evaluates accuracy\n",
    "\n",
    "\n",
    "\n",
    "Answer: \n"
   ]
  },
  {
   "cell_type": "markdown",
   "id": "9913f006",
   "metadata": {},
   "source": [
    "## Section 2: Python Basics & Exception Handling\n",
    "Perform the following practical coding exercises."
   ]
  },
  {
   "cell_type": "code",
   "execution_count": 1,
   "id": "c81cd21e",
   "metadata": {},
   "outputs": [],
   "source": [
    "# Q1: Write a function that divides two numbers and handles division by zero using exception handling.\n",
    "def divide_numbers(a, b):\n",
    "    pass  # Your code here\n"
   ]
  },
  {
   "cell_type": "code",
   "execution_count": 2,
   "id": "d16c4b15",
   "metadata": {},
   "outputs": [],
   "source": [
    "# Q2: Write a Python function that takes a list of integers and returns the sum of even numbers.\n",
    "def sum_even_numbers(lst):\n",
    "    pass  # Your code here\n"
   ]
  },
  {
   "cell_type": "markdown",
   "id": "d0bf91b7",
   "metadata": {},
   "source": [
    "## Section 3: Object-Oriented Programming (OOP)\n",
    "Answer the following using OOP concepts."
   ]
  },
  {
   "cell_type": "code",
   "execution_count": 1,
   "id": "8c096ee6",
   "metadata": {},
   "outputs": [
    {
     "name": "stdout",
     "output_type": "stream",
     "text": [
      "Brand: Toyota, Model: Corolla, Year: 2025\n"
     ]
    }
   ],
   "source": [
    "# Q3: Create a class `Car` with attributes like `brand`, `model`, and `year`. Create a method to display information.\n",
    "class Car:\n",
    "    pass  # Your code here\n",
    "class Car:\n",
    "    pass  # Your code here\n",
    "\n",
    "class Car:\n",
    "    def __init__(self, brand, model, year):\n",
    "        self.brand = brand\n",
    "        self.model = model\n",
    "        self.year = year\n",
    "\n",
    "    def display_info(self):\n",
    "        print(f\"Brand: {self.brand}, Model: {self.model}, Year: {self.year}\")\n",
    "\n",
    "car1 = Car(\"Toyota\", \"Corolla\", 2025)\n",
    "car1.display_info()"
   ]
  },
  {
   "cell_type": "code",
   "execution_count": 4,
   "id": "997de70a",
   "metadata": {},
   "outputs": [],
   "source": [
    "# Q4: Inherit a class `ElectricCar` from `Car` and add an attribute `battery_capacity`. Override the display method.\n",
    "class ElectricCar(Car):\n",
    "    pass  # Your code here\n"
   ]
  },
  {
   "cell_type": "markdown",
   "id": "1f6a9205",
   "metadata": {},
   "source": [
    "## Section 4: File Handling\n",
    "Answer the following using file handling concepts."
   ]
  },
  {
   "cell_type": "code",
   "execution_count": 5,
   "id": "09938c61",
   "metadata": {},
   "outputs": [],
   "source": [
    "# Q5: Write a program that writes a list of names to a file and then reads them back.\n",
    "names = ['Ali', 'Sara', 'John']\n",
    "# Your code here\n"
   ]
  },
  {
   "cell_type": "markdown",
   "id": "e858e93b",
   "metadata": {},
   "source": [
    "## Section 5: NumPy and Pandas\n",
    "Solve the following using NumPy and Pandas."
   ]
  },
  {
   "cell_type": "code",
   "execution_count": 6,
   "id": "0be3dc35",
   "metadata": {},
   "outputs": [],
   "source": [
    "# Q6: Create a NumPy array of shape (4,4) with random integers and calculate the mean of each column.\n",
    "import numpy as np\n",
    "# Your code here\n"
   ]
  },
  {
   "cell_type": "code",
   "execution_count": 7,
   "id": "4788ccfd",
   "metadata": {},
   "outputs": [],
   "source": [
    "# Q7: Load a sample DataFrame using pandas and perform basic filtering and aggregation.\n",
    "import pandas as pd\n",
    "# Your code here\n"
   ]
  },
  {
   "cell_type": "markdown",
   "id": "d81e930e",
   "metadata": {},
   "source": [
    "## Section 6: Sklearn - Supervised Learning\n",
    "Answer the following by building small models using sklearn."
   ]
  },
  {
   "cell_type": "code",
   "execution_count": null,
   "id": "1218ade4",
   "metadata": {},
   "outputs": [],
   "source": [
    "# Q8: Load the Iris dataset and train a DecisionTreeClassifier. Print the accuracy.\n",
    "from sklearn.datasets import load_iris\n",
    "from sklearn.tree import DecisionTreeClassifier\n",
    "from sklearn.model_selection import train_test_split\n",
    "from sklearn.metrics import accuracy_score\n",
    "# Your code here\n",
    "\n",
    "# Load the Iris dataset\n",
    "iris = load_iris()\n",
    "X = iris.data\n",
    "y = iris.target\n",
    "df.head(5)\n",
    "\n",
    "# Split the data into training and testing sets\n",
    "X_train, X_test, y_train, y_test = train_test_split(X, y, test_size=0.3, random_state=42)\n",
    "\n",
    "# Initialize the DecisionTreeClassifier\n",
    "clf = DecisionTreeClassifier()\n",
    "\n",
    "# Train the model\n",
    "clf.fit(X_train, y_train)\n",
    "\n",
    "# Make predictions on the test set\n",
    "y_pred = clf.predict(X_test)\n",
    "\n",
    "# Calculate and print the accuracy\n",
    "accuracy = accuracy_score(y_test, y_pred)\n",
    "print(f\"Accuracy: {accuracy * 100:.2f}%\")"
   ]
  },
  {
   "cell_type": "code",
   "execution_count": 9,
   "id": "735c5fe3",
   "metadata": {},
   "outputs": [],
   "source": [
    "# Q9: Train a Logistic Regression model on breast cancer dataset and evaluate it using confusion matrix.\n",
    "from sklearn.datasets import load_breast_cancer\n",
    "from sklearn.linear_model import LogisticRegression\n",
    "# Your code here\n"
   ]
  },
  {
   "cell_type": "markdown",
   "id": "1e66ce75",
   "metadata": {},
   "source": [
    "## Section 7: Streamlit & Tkinter\n",
    "Answer the following project-related questions."
   ]
  },
  {
   "cell_type": "code",
   "execution_count": 7,
   "id": "9355d4be",
   "metadata": {},
   "outputs": [],
   "source": [
    "# Q10: Build a basic Streamlit form with input for name and age and display a welcome message.\n",
    "# Your code here\n",
    "import streamlit as st\n",
    "\n",
    "# Create a form\n",
    "with st.form(key='user_form'):\n",
    "    name = st.text_input(\"Enter your name\")\n",
    "    age = st.number_input(\"Enter your age\", min_value=0)\n",
    "\n",
    "    submit_button = st.form_submit_button(\"Submit\")\n",
    "\n",
    "# Display welcome message after form submission\n",
    "if submit_button:\n",
    "    st.write(f\"Welcome {name}, you are {age} years old!\")"
   ]
  },
  {
   "cell_type": "code",
   "execution_count": 11,
   "id": "255850cf",
   "metadata": {},
   "outputs": [],
   "source": [
    "# Q11: Create a basic Tkinter window with a label and button. Clicking the button should change the label text.\n",
    "# Your code here\n"
   ]
  },
  {
   "cell_type": "markdown",
   "id": "c3bc97ea",
   "metadata": {},
   "source": [
    "### Q26: Write code to demonstrate concept of Classes"
   ]
  },
  {
   "cell_type": "code",
   "execution_count": 12,
   "id": "44fc11ef",
   "metadata": {},
   "outputs": [],
   "source": [
    "# Your code here\n"
   ]
  },
  {
   "cell_type": "markdown",
   "id": "56b528b9",
   "metadata": {},
   "source": [
    "### Q27: Write code to demonstrate concept of Inheritance"
   ]
  },
  {
   "cell_type": "code",
   "execution_count": 13,
   "id": "bf53693a",
   "metadata": {},
   "outputs": [],
   "source": [
    "# Your code here\n"
   ]
  },
  {
   "cell_type": "markdown",
   "id": "902775c5",
   "metadata": {},
   "source": [
    "### Q28: Write code to demonstrate concept of Exception Handeling"
   ]
  },
  {
   "cell_type": "code",
   "execution_count": 14,
   "id": "11a56e64",
   "metadata": {},
   "outputs": [],
   "source": [
    "# Your code here\n"
   ]
  },
  {
   "cell_type": "markdown",
   "id": "920d366f",
   "metadata": {},
   "source": [
    "### Q29: Write code to demonstrate concept of Data Loading in Pandas"
   ]
  },
  {
   "cell_type": "code",
   "execution_count": 15,
   "id": "3f8db42a",
   "metadata": {},
   "outputs": [],
   "source": [
    "# Your code here\n"
   ]
  },
  {
   "cell_type": "markdown",
   "id": "e92472b7",
   "metadata": {},
   "source": [
    "### Q30: Write code to demonstrate concept of Numpy arrays in Multi dimensions"
   ]
  },
  {
   "cell_type": "code",
   "execution_count": 16,
   "id": "8960457a",
   "metadata": {},
   "outputs": [],
   "source": [
    "# Your code here\n"
   ]
  },
  {
   "cell_type": "markdown",
   "id": "ef6b771a",
   "metadata": {},
   "source": [
    "### Q31: Write code to demonstrate concept of Lamda Functions"
   ]
  },
  {
   "cell_type": "code",
   "execution_count": 17,
   "id": "58448a4b",
   "metadata": {},
   "outputs": [],
   "source": [
    "# Your code here\n"
   ]
  },
  {
   "cell_type": "markdown",
   "id": "bdbd9620",
   "metadata": {},
   "source": [
    "### Q32: Write code using Streamlit for a Percentage calculation web app"
   ]
  },
  {
   "cell_type": "code",
   "execution_count": 6,
   "id": "45157349",
   "metadata": {},
   "outputs": [],
   "source": [
    "# Your code here\n",
    "# Create a form\n",
    "with st.form(key='user_form'):\n",
    "    name = st.text_input(\"Enter your name\")\n",
    "    age = st.number_input(\"Enter your age\", min_value=0)\n",
    "\n",
    "    submit_button = st.form_submit_button(\"Submit\")\n",
    "\n",
    "# Display welcome message after form submission\n",
    "if submit_button:\n",
    "    st.write(f\"Welcome {name}, you are {age} years old!\")"
   ]
  },
  {
   "cell_type": "markdown",
   "id": "bbaf912b",
   "metadata": {},
   "source": [
    "### Q33: Write code to Using Classes and Objects with Try and Except blocks "
   ]
  },
  {
   "cell_type": "code",
   "execution_count": 19,
   "id": "3d980e87",
   "metadata": {},
   "outputs": [],
   "source": [
    "# Your code here\n"
   ]
  },
  {
   "cell_type": "markdown",
   "id": "5b9e3b58",
   "metadata": {},
   "source": [
    "### THE END..."
   ]
  }
 ],
 "metadata": {
  "kernelspec": {
   "display_name": "base",
   "language": "python",
   "name": "python3"
  },
  "language_info": {
   "codemirror_mode": {
    "name": "ipython",
    "version": 3
   },
   "file_extension": ".py",
   "mimetype": "text/x-python",
   "name": "python",
   "nbconvert_exporter": "python",
   "pygments_lexer": "ipython3",
   "version": "3.12.7"
  }
 },
 "nbformat": 4,
 "nbformat_minor": 5
}
