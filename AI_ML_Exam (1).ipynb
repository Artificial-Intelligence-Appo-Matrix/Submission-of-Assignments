{
 "cells": [
  {
   "cell_type": "markdown",
   "id": "f2dd6f3e",
   "metadata": {},
   "source": [
    "# AI & Machine Learning Practical & MCQ Exam\n",
    "**Date:** 2025-04-14\n",
    "**Instructor:** Muhammad Ali\n",
    "\n",
    "\n",
    "**Student Name:** ------Atiqa _______\n",
    "\n",
    "This exam is designed to evaluate your practical and theoretical understanding of Python, NumPy, Pandas, Exception Handling, OOP, File Handling, Sklearn models (Supervised Learning), and project tools like Streamlit and Tkinter.\n",
    "\n",
    "---"
   ]
  },
  {
   "cell_type": "markdown",
   "id": "b5d66b31",
   "metadata": {},
   "source": [
    "## Section 1: Multiple Choice Questions (MCQs)\n",
    "Answer the following questions by selecting the correct option.\n",
    "\n",
    "Q1. What will be the output of print(type([]) is list)?\n",
    "\n",
    "a) True\n",
    "\n",
    "b) False\n",
    "\n",
    "c) list  \n",
    "\n",
    "d) TypeError\n",
    "\n",
    "\n",
    "\n",
    "Answer: c\n",
    "\n",
    "Q2. Which of the following is used to handle exceptions in Python?\n",
    "\n",
    "a) catch\n",
    "\n",
    "b) handle\n",
    "\n",
    "c) try-except   \n",
    "\n",
    "d) do-while\n",
    "\n",
    "\n",
    "\n",
    "Answer: c\n",
    "\n",
    "Q3. What will try: x = 1/0 except ZeroDivisionError: x = 0 set x to?\n",
    "\n",
    "a) 1\n",
    "\n",
    "b) 0\n",
    "\n",
    "c) ZeroDivisionError   \n",
    "\n",
    "d) None\n",
    "\n",
    "\n",
    "\n",
    "Answer: c\n",
    "\n",
    "Q4. What is the output of bool(\"False\")?\n",
    "\n",
    "a) True\n",
    "\n",
    "b) False\n",
    "\n",
    "c) SyntaxError\n",
    "\n",
    "d) 0\n",
    "\n",
    "\n",
    "\n",
    "Answer: a\n",
    "\n",
    "Q5. Which of the following will raise an exception?\n",
    "\n",
    "a) open(\"file.txt\", \"r\")\n",
    "\n",
    "b) print(1/0)\n",
    "\n",
    "c) int(\"abc\")\n",
    "\n",
    "d) All of the above\n",
    "\n",
    "\n",
    "\n",
    "Answer:  d\n",
    "\n",
    "Q6. What is the term for hiding internal object details?\n",
    "\n",
    "a) Polymorphism\n",
    "\n",
    "b) Inheritance\n",
    "\n",
    "c) Abstraction\n",
    "\n",
    "d) Encapsulation\n",
    "\n",
    "\n",
    "\n",
    "Answer: d\n",
    "\n",
    "Q7. In Python, every class inherits from:\n",
    "\n",
    "a) Object\n",
    "\n",
    "b) Class\n",
    "\n",
    "c) Main\n",
    "\n",
    "d) Self\n",
    "\n",
    "\n",
    "\n",
    "Answer:c\n",
    "\n",
    "Q8. What does __init__ do?\n",
    "\n",
    "a) Deletes an object\n",
    "\n",
    "b) Creates an object\n",
    "\n",
    "c) Initializes the object\n",
    "\n",
    "d) None\n",
    "\n",
    "\n",
    "\n",
    "Answer:  c\n",
    "\n",
    "Q9. Which keyword is used for inheritance?\n",
    "\n",
    "a) inherit\n",
    "\n",
    "b) extends\n",
    "\n",
    "c) base\n",
    "\n",
    "d) (No keyword, just pass parent in parentheses)\n",
    "\n",
    "\n",
    "\n",
    "Answer: d\n",
    "\n",
    "Q10. What is method overriding?\n",
    "\n",
    "a) Changing parameter values\n",
    "\n",
    "b) Inheriting a method\n",
    "\n",
    "c) Redefining a parent method in child class\n",
    "\n",
    "d) Using a private method\n",
    "\n",
    "\n",
    "\n",
    "Answer:   c\n",
    "\n",
    "Q11. What mode is used to append to a file?\n",
    "\n",
    "a) r\n",
    "\n",
    "b) w\n",
    "\n",
    "c) a\n",
    "\n",
    "d) rw\n",
    "\n",
    "\n",
    "\n",
    "Answer: c\n",
    "Q12. What does readlines() return?\n",
    "\n",
    "a) One line\n",
    "\n",
    "b) All lines as list\n",
    "\n",
    "c) Number of lines\n",
    "\n",
    "d) Last line only\n",
    "\n",
    "\n",
    "\n",
    "Answer: b\n",
    "\n",
    "Q13. Which of the following automatically closes the file?\n",
    "\n",
    "a) open()\n",
    "\n",
    "b) file.close()\n",
    "\n",
    "c) with open() as f:\n",
    "\n",
    "d) None\n",
    "\n",
    "\n",
    "\n",
    "Answer:  c\n",
    "\n",
    "Q14. Which method is used to write a string to a file?\n",
    "\n",
    "a) append()\n",
    "\n",
    "b) add()\n",
    "\n",
    "c) write()\n",
    "\n",
    "d) save()\n",
    "\n",
    "\n",
    "\n",
    "Answer: c\n",
    " \n",
    "Q15. What happens if you open a file in \"w\" mode that already exists?\n",
    "\n",
    "a) It is appended\n",
    "\n",
    "b) It is renamed\n",
    "\n",
    "c) It is deleted and a new file is created\n",
    "\n",
    "d) It raises an error\n",
    "\n",
    "\n",
    "\n",
    "Answer: c\n",
    "\n",
    "Q16. NumPy arrays are:\n",
    "\n",
    "a) Slower than lists\n",
    "\n",
    "b) Homogeneous\n",
    "\n",
    "c) Heterogeneous\n",
    "\n",
    "d) None\n",
    "\n",
    "\n",
    "\n",
    "Answer:  d\n",
    "\n",
    "Q17. Which function creates an array of zeros in NumPy?\n",
    "\n",
    "a) np.empty()\n",
    "\n",
    "b) np.array(0)\n",
    "\n",
    "c) np.zeros()\n",
    "\n",
    "d) np.zero()\n",
    "\n",
    "\n",
    "\n",
    "Answer:  c\n",
    "\n",
    "Q18. How do you check for missing values in Pandas?\n",
    "\n",
    "a) df.is_missing()\n",
    "\n",
    "b) df.check_null()\n",
    "\n",
    "c) df.isnull()\n",
    "\n",
    "d) df.missing()\n",
    "\n",
    "\n",
    "\n",
    "Answer:  c\n",
    "\n",
    "Q19. Which method groups data in Pandas?\n",
    "\n",
    "a) group()\n",
    "\n",
    "b) df.groupby()\n",
    "\n",
    "c) cluster()\n",
    "\n",
    "d) df.partition()\n",
    "\n",
    "\n",
    "\n",
    "Answer:  b\n",
    "\n",
    "Q20. Which function is used to read CSV in Pandas?\n",
    "\n",
    "a) pd.readfile()\n",
    "\n",
    "b) pd.load()\n",
    "\n",
    "c) pd.read_csv()\n",
    "\n",
    "d) pd.open_csv()\n",
    "\n",
    "\n",
    "\n",
    "Answer: c\n",
    "\n",
    "Q21. Which of the following is a supervised learning algorithm?\n",
    "\n",
    "a) KMeans\n",
    "\n",
    "b) DBSCAN\n",
    "\n",
    "c) Decision Tree\n",
    "\n",
    "d) PCA\n",
    "\n",
    "\n",
    "\n",
    "Answer: c\n",
    "\n",
    "Q22. What is the purpose of train_test_split?\n",
    "\n",
    "a) To normalize data\n",
    "\n",
    "b) To separate features and labels\n",
    "\n",
    "c) To split data into training and testing sets\n",
    "\n",
    "d) To merge datasets\n",
    "\n",
    "\n",
    "\n",
    "Answer:  c\n",
    "\n",
    "\n",
    "Q23. Which metric is used for classification accuracy?\n",
    "\n",
    "a) MSE\n",
    "\n",
    "b) R2\n",
    "\n",
    "c) Accuracy Score\n",
    "\n",
    "d) RMSE\n",
    "\n",
    "\n",
    "\n",
    "Answer:  c\n",
    "\n",
    "Q24. Which model is used for binary classification?\n",
    "\n",
    "a) KMeans\n",
    "\n",
    "b) Logistic Regression\n",
    "\n",
    "c) Random Forest Regressor\n",
    "\n",
    "d) PCA\n",
    "\n",
    "\n",
    "\n",
    "Answer:  b\n",
    "\n",
    "Q25. What does fit() method do in sklearn models?\n",
    "\n",
    "a) Applies the model\n",
    "\n",
    "b) Trains the model\n",
    "\n",
    "c) Tests the model\n",
    "\n",
    "d) Evaluates accuracy\n",
    "\n",
    "\n",
    "\n",
    "Answer: a\n"
   ]
  },
  {
   "cell_type": "markdown",
   "id": "9913f006",
   "metadata": {},
   "source": [
    "## Section 2: Python Basics & Exception Handling\n",
    "Perform the following practical coding exercises."
   ]
  },
  {
   "cell_type": "code",
   "execution_count": null,
   "id": "c81cd21e",
   "metadata": {},
   "outputs": [
    {
     "name": "stdout",
     "output_type": "stream",
     "text": [
      "0.4\n"
     ]
    }
   ],
   "source": [
    "# Q1: Write a function that divides two numbers and handles division by zero using exception handling.\n",
    "def divide_numbers(a, b):\n",
    "    try:\n",
    "        print(a/b)\n",
    "\n",
    "    except ZeroDivisionError:\n",
    "        print(\"Zero division is not possible\")\n",
    "\n",
    "divide_numbers(2,0)"
   ]
  },
  {
   "cell_type": "code",
   "execution_count": 6,
   "id": "d16c4b15",
   "metadata": {},
   "outputs": [
    {
     "data": {
      "text/plain": [
       "12"
      ]
     },
     "execution_count": 6,
     "metadata": {},
     "output_type": "execute_result"
    }
   ],
   "source": [
    "# Q2: Write a Python function that takes a list of integers and returns the sum of even numbers.\n",
    "def sum_even_numbers(lst):\n",
    "    even_sum=0\n",
    "    for i in lst:\n",
    "        if i%2 == 0:\n",
    "            even_sum +=i\n",
    "    return even_sum\n",
    "\n",
    "\n",
    "sum_even_numbers([1,2,3,4,5,6])\n",
    "\n"
   ]
  },
  {
   "cell_type": "markdown",
   "id": "d0bf91b7",
   "metadata": {},
   "source": [
    "## Section 3: Object-Oriented Programming (OOP)\n",
    "Answer the following using OOP concepts."
   ]
  },
  {
   "cell_type": "code",
   "execution_count": 13,
   "id": "8c096ee6",
   "metadata": {},
   "outputs": [
    {
     "name": "stdout",
     "output_type": "stream",
     "text": [
      " Model SU_2001 \n",
      " Brand:Suzuki \n",
      " Year:2000\n"
     ]
    }
   ],
   "source": [
    "# Q3: Create a class `Car` with attributes like `brand`, `model`, and `year`. Create a method to display information.\n",
    "class Car:\n",
    "    def __init__(self, brand, model, year):\n",
    "      self.brand= brand\n",
    "      self.model= model\n",
    "      self.year= year\n",
    "\n",
    "\n",
    "    def  display_info(self):\n",
    "       print(f\" Model {self.model} \\n Brand:{ self.brand} \\n Year:{self.year}\")\n",
    "\n",
    "\n",
    "\n",
    "c1 = Car(\"Suzuki\",\"SU_2001\", 2000)\n",
    "c1.display_info()"
   ]
  },
  {
   "cell_type": "code",
   "execution_count": 11,
   "id": "997de70a",
   "metadata": {},
   "outputs": [],
   "source": [
    "# Q4: Inherit a class `ElectricCar` from `Car` and add an attribute `battery_capacity`. Override the display method.\n",
    "class ElectricCar(Car):\n",
    "    def __init__(self, brand, model, year,battery_capacity ):\n",
    "        super().__init__(brand, model, year)\n",
    "        self.battery_capacity = battery_capacity\n",
    "\n",
    "\n",
    "    def display_info(self):\n",
    "       print(f\" Model {self.model} \\n Brand:{ self.brand} \\n Year:{self.year} \\nBttery_Capacity{self.battery_capacity}\")\n"
   ]
  },
  {
   "cell_type": "code",
   "execution_count": 12,
   "id": "3baa5efb",
   "metadata": {},
   "outputs": [
    {
     "name": "stdout",
     "output_type": "stream",
     "text": [
      " Model SU_2001 \n",
      " Brand:SUZUKI \n",
      " Year:2025 \n",
      "Bttery_Capacity50V\n"
     ]
    }
   ],
   "source": [
    "e1= ElectricCar(\"SUZUKI\", \"SU_2001\", 2025, '50V')\n",
    "e1.display_info()"
   ]
  },
  {
   "cell_type": "markdown",
   "id": "1f6a9205",
   "metadata": {},
   "source": [
    "## Section 4: File Handling\n",
    "Answer the following using file handling concepts."
   ]
  },
  {
   "cell_type": "code",
   "execution_count": null,
   "id": "09938c61",
   "metadata": {},
   "outputs": [],
   "source": [
    "# Q5: Write a program that writes a list of names to a file and then reads them back.\n",
    "names = ['Ali', 'Sara', 'John']\n",
    "\n",
    "with open('file.txt', 'w') as f:\n",
    "    for name in names:\n",
    "        f.write(name)\n"
   ]
  },
  {
   "cell_type": "code",
   "execution_count": 2,
   "id": "3a6cc950",
   "metadata": {},
   "outputs": [
    {
     "name": "stdout",
     "output_type": "stream",
     "text": [
      "AliSaraJohn\n"
     ]
    }
   ],
   "source": [
    "with open('file.txt', 'r') as f:\n",
    "    data = f.read()\n",
    "    print(data)"
   ]
  },
  {
   "cell_type": "markdown",
   "id": "e858e93b",
   "metadata": {},
   "source": [
    "## Section 5: NumPy and Pandas\n",
    "Solve the following using NumPy and Pandas."
   ]
  },
  {
   "cell_type": "code",
   "execution_count": 13,
   "id": "0be3dc35",
   "metadata": {},
   "outputs": [
    {
     "name": "stdout",
     "output_type": "stream",
     "text": [
      "[4.75 5.25 2.   5.75]\n"
     ]
    }
   ],
   "source": [
    "# Q6: Create a NumPy array of shape (4,4) with random integers and calculate the mean of each column.\n",
    "import numpy as np\n",
    "# Your code here\n",
    "\n",
    "\n",
    "arr = np.random.randint(10, size=(4,4))\n",
    "arr\n",
    "# print(arr.mean(), axis =1)\n",
    "print(arr.mean(axis =1))\n"
   ]
  },
  {
   "cell_type": "code",
   "execution_count": 24,
   "id": "4788ccfd",
   "metadata": {},
   "outputs": [],
   "source": [
    "# Q7: Load a sample DataFrame using pandas and perform basic filtering and aggregation.\n",
    "import pandas as pd\n",
    "# Your code here\n",
    "df = pd.read_csv('Housing.csv')\n",
    "df.drop(columns=['rownames','driveway', 'recroom', 'fullbase', 'gashw','airco', 'prefarea'], inplace=True)\n"
   ]
  },
  {
   "cell_type": "code",
   "execution_count": 25,
   "id": "bda5cad8",
   "metadata": {},
   "outputs": [
    {
     "name": "stdout",
     "output_type": "stream",
     "text": [
      "      price  lotsize  bedrooms  bathrms  stories  garagepl\n",
      "0     42000     5850         3        1        2         1\n",
      "1     38500     4000         2        1        1         0\n",
      "2     49500     3060         3        1        1         0\n",
      "3     60500     6650         3        1        2         0\n",
      "4     61000     6360         2        1        1         0\n",
      "..      ...      ...       ...      ...      ...       ...\n",
      "541   91500     4800         3        2        4         0\n",
      "542   94000     6000         3        2        4         0\n",
      "543  103000     6000         3        2        4         1\n",
      "544  105000     6000         3        2        2         1\n",
      "545  105000     6000         3        1        2         1\n",
      "\n",
      "[546 rows x 6 columns]\n"
     ]
    }
   ],
   "source": [
    "print(df)"
   ]
  },
  {
   "cell_type": "code",
   "execution_count": 26,
   "id": "b648c416",
   "metadata": {},
   "outputs": [
    {
     "name": "stdout",
     "output_type": "stream",
     "text": [
      "      price  lotsize  bedrooms  bathrms  stories  garagepl\n",
      "43    92000     8580         5        3        2         2\n",
      "119  116000     6840         5        1        2         1\n",
      "367  120000     7950         5        2        2         2\n",
      "368  145000    16200         5        3        2         0\n"
     ]
    }
   ],
   "source": [
    "# Q7: Load a sample DataFrame using pandas and perform basic filtering and aggregation.\n",
    "filter = (df['lotsize'] > 6000 ) & (df['bedrooms'] >= 5)\n",
    "print(df[filter])"
   ]
  },
  {
   "cell_type": "code",
   "execution_count": 33,
   "id": "7ef850eb",
   "metadata": {},
   "outputs": [
    {
     "data": {
      "text/plain": [
       "lotsize\n",
       "6000    24\n",
       "3000    14\n",
       "4500    13\n",
       "4000    11\n",
       "5500     9\n",
       "        ..\n",
       "2640     1\n",
       "3792     1\n",
       "4200     1\n",
       "2817     1\n",
       "6525     1\n",
       "Name: count, Length: 284, dtype: int64"
      ]
     },
     "execution_count": 33,
     "metadata": {},
     "output_type": "execute_result"
    }
   ],
   "source": [
    "df['lotsize'].value_counts()"
   ]
  },
  {
   "cell_type": "code",
   "execution_count": 44,
   "id": "4b999ec8",
   "metadata": {},
   "outputs": [],
   "source": [
    "# df.groupby('bedrooms')['price'].aggregate( sum())"
   ]
  },
  {
   "cell_type": "code",
   "execution_count": 41,
   "id": "0c39d377",
   "metadata": {},
   "outputs": [
    {
     "name": "stdout",
     "output_type": "stream",
     "text": [
      "bedrooms\n",
      "1       77500\n",
      "2     7056500\n",
      "3    21315992\n",
      "4     7776100\n",
      "5      831400\n",
      "6      136900\n",
      "Name: price, dtype: int64\n",
      "bedrooms\n",
      "1    38750.000000\n",
      "2    51886.029412\n",
      "3    70817.249169\n",
      "4    81853.684211\n",
      "5    83140.000000\n",
      "6    68450.000000\n",
      "Name: price, dtype: float64\n",
      "bedrooms\n",
      "1    32500\n",
      "2    25000\n",
      "3    25000\n",
      "4    30000\n",
      "5    28000\n",
      "6    50000\n",
      "Name: price, dtype: int64\n",
      "bedrooms\n",
      "1     45000\n",
      "2    101000\n",
      "3    175000\n",
      "4    190000\n",
      "5    145000\n",
      "6     86900\n",
      "Name: price, dtype: int64\n"
     ]
    }
   ],
   "source": [
    "print(df.groupby('bedrooms')['price'].sum())\n",
    "print(df.groupby('bedrooms')['price'].mean())\n",
    "print(df.groupby('bedrooms')['price'].min())\n",
    "print(df.groupby('bedrooms')['price'].max())"
   ]
  },
  {
   "cell_type": "code",
   "execution_count": null,
   "id": "c0794645",
   "metadata": {},
   "outputs": [],
   "source": []
  },
  {
   "cell_type": "markdown",
   "id": "d81e930e",
   "metadata": {},
   "source": [
    "## Section 6: Sklearn - Supervised Learning\n",
    "Answer the following by building small models using sklearn."
   ]
  },
  {
   "cell_type": "code",
   "execution_count": 5,
   "id": "1218ade4",
   "metadata": {},
   "outputs": [],
   "source": [
    "# Q8: Load the Iris dataset and train a DecisionTreeClassifier. Print the accuracy.\n",
    "from sklearn.datasets import load_iris\n",
    "from sklearn.tree import DecisionTreeClassifier\n",
    "from sklearn.model_selection import train_test_split\n",
    "from sklearn.metrics import accuracy_score\n",
    "# Your code here\n"
   ]
  },
  {
   "cell_type": "code",
   "execution_count": 89,
   "id": "799d345e",
   "metadata": {},
   "outputs": [
    {
     "data": {
      "text/html": [
       "<div>\n",
       "<style scoped>\n",
       "    .dataframe tbody tr th:only-of-type {\n",
       "        vertical-align: middle;\n",
       "    }\n",
       "\n",
       "    .dataframe tbody tr th {\n",
       "        vertical-align: top;\n",
       "    }\n",
       "\n",
       "    .dataframe thead th {\n",
       "        text-align: right;\n",
       "    }\n",
       "</style>\n",
       "<table border=\"1\" class=\"dataframe\">\n",
       "  <thead>\n",
       "    <tr style=\"text-align: right;\">\n",
       "      <th></th>\n",
       "      <th>Id</th>\n",
       "      <th>SepalLengthCm</th>\n",
       "      <th>SepalWidthCm</th>\n",
       "      <th>PetalLengthCm</th>\n",
       "      <th>PetalWidthCm</th>\n",
       "      <th>Species</th>\n",
       "    </tr>\n",
       "  </thead>\n",
       "  <tbody>\n",
       "    <tr>\n",
       "      <th>0</th>\n",
       "      <td>1</td>\n",
       "      <td>5.1</td>\n",
       "      <td>3.5</td>\n",
       "      <td>1.4</td>\n",
       "      <td>0.2</td>\n",
       "      <td>Iris-setosa</td>\n",
       "    </tr>\n",
       "    <tr>\n",
       "      <th>1</th>\n",
       "      <td>2</td>\n",
       "      <td>4.9</td>\n",
       "      <td>3.0</td>\n",
       "      <td>1.4</td>\n",
       "      <td>0.2</td>\n",
       "      <td>Iris-setosa</td>\n",
       "    </tr>\n",
       "    <tr>\n",
       "      <th>2</th>\n",
       "      <td>3</td>\n",
       "      <td>4.7</td>\n",
       "      <td>3.2</td>\n",
       "      <td>1.3</td>\n",
       "      <td>0.2</td>\n",
       "      <td>Iris-setosa</td>\n",
       "    </tr>\n",
       "    <tr>\n",
       "      <th>3</th>\n",
       "      <td>4</td>\n",
       "      <td>4.6</td>\n",
       "      <td>3.1</td>\n",
       "      <td>1.5</td>\n",
       "      <td>0.2</td>\n",
       "      <td>Iris-setosa</td>\n",
       "    </tr>\n",
       "    <tr>\n",
       "      <th>4</th>\n",
       "      <td>5</td>\n",
       "      <td>5.0</td>\n",
       "      <td>3.6</td>\n",
       "      <td>1.4</td>\n",
       "      <td>0.2</td>\n",
       "      <td>Iris-setosa</td>\n",
       "    </tr>\n",
       "    <tr>\n",
       "      <th>...</th>\n",
       "      <td>...</td>\n",
       "      <td>...</td>\n",
       "      <td>...</td>\n",
       "      <td>...</td>\n",
       "      <td>...</td>\n",
       "      <td>...</td>\n",
       "    </tr>\n",
       "    <tr>\n",
       "      <th>145</th>\n",
       "      <td>146</td>\n",
       "      <td>6.7</td>\n",
       "      <td>3.0</td>\n",
       "      <td>5.2</td>\n",
       "      <td>2.3</td>\n",
       "      <td>Iris-virginica</td>\n",
       "    </tr>\n",
       "    <tr>\n",
       "      <th>146</th>\n",
       "      <td>147</td>\n",
       "      <td>6.3</td>\n",
       "      <td>2.5</td>\n",
       "      <td>5.0</td>\n",
       "      <td>1.9</td>\n",
       "      <td>Iris-virginica</td>\n",
       "    </tr>\n",
       "    <tr>\n",
       "      <th>147</th>\n",
       "      <td>148</td>\n",
       "      <td>6.5</td>\n",
       "      <td>3.0</td>\n",
       "      <td>5.2</td>\n",
       "      <td>2.0</td>\n",
       "      <td>Iris-virginica</td>\n",
       "    </tr>\n",
       "    <tr>\n",
       "      <th>148</th>\n",
       "      <td>149</td>\n",
       "      <td>6.2</td>\n",
       "      <td>3.4</td>\n",
       "      <td>5.4</td>\n",
       "      <td>2.3</td>\n",
       "      <td>Iris-virginica</td>\n",
       "    </tr>\n",
       "    <tr>\n",
       "      <th>149</th>\n",
       "      <td>150</td>\n",
       "      <td>5.9</td>\n",
       "      <td>3.0</td>\n",
       "      <td>5.1</td>\n",
       "      <td>1.8</td>\n",
       "      <td>Iris-virginica</td>\n",
       "    </tr>\n",
       "  </tbody>\n",
       "</table>\n",
       "<p>150 rows × 6 columns</p>\n",
       "</div>"
      ],
      "text/plain": [
       "      Id  SepalLengthCm  SepalWidthCm  PetalLengthCm  PetalWidthCm  \\\n",
       "0      1            5.1           3.5            1.4           0.2   \n",
       "1      2            4.9           3.0            1.4           0.2   \n",
       "2      3            4.7           3.2            1.3           0.2   \n",
       "3      4            4.6           3.1            1.5           0.2   \n",
       "4      5            5.0           3.6            1.4           0.2   \n",
       "..   ...            ...           ...            ...           ...   \n",
       "145  146            6.7           3.0            5.2           2.3   \n",
       "146  147            6.3           2.5            5.0           1.9   \n",
       "147  148            6.5           3.0            5.2           2.0   \n",
       "148  149            6.2           3.4            5.4           2.3   \n",
       "149  150            5.9           3.0            5.1           1.8   \n",
       "\n",
       "            Species  \n",
       "0       Iris-setosa  \n",
       "1       Iris-setosa  \n",
       "2       Iris-setosa  \n",
       "3       Iris-setosa  \n",
       "4       Iris-setosa  \n",
       "..              ...  \n",
       "145  Iris-virginica  \n",
       "146  Iris-virginica  \n",
       "147  Iris-virginica  \n",
       "148  Iris-virginica  \n",
       "149  Iris-virginica  \n",
       "\n",
       "[150 rows x 6 columns]"
      ]
     },
     "execution_count": 89,
     "metadata": {},
     "output_type": "execute_result"
    }
   ],
   "source": [
    "df=pd.read_csv('Iris.csv')\n",
    "df"
   ]
  },
  {
   "cell_type": "code",
   "execution_count": 90,
   "id": "34707227",
   "metadata": {},
   "outputs": [
    {
     "data": {
      "text/plain": [
       "Id               0\n",
       "SepalLengthCm    0\n",
       "SepalWidthCm     0\n",
       "PetalLengthCm    0\n",
       "PetalWidthCm     0\n",
       "Species          0\n",
       "dtype: int64"
      ]
     },
     "execution_count": 90,
     "metadata": {},
     "output_type": "execute_result"
    }
   ],
   "source": [
    "df.isna().sum()\n",
    "# df.dropna(inplace=True)\n",
    "# df.isna().sum\n"
   ]
  },
  {
   "cell_type": "code",
   "execution_count": 91,
   "id": "8c4aa57e",
   "metadata": {},
   "outputs": [
    {
     "data": {
      "text/plain": [
       "Id               150\n",
       "SepalLengthCm     35\n",
       "SepalWidthCm      23\n",
       "PetalLengthCm     43\n",
       "PetalWidthCm      22\n",
       "Species            3\n",
       "dtype: int64"
      ]
     },
     "execution_count": 91,
     "metadata": {},
     "output_type": "execute_result"
    }
   ],
   "source": [
    "df.nunique()"
   ]
  },
  {
   "cell_type": "code",
   "execution_count": 92,
   "id": "56924b89",
   "metadata": {},
   "outputs": [
    {
     "data": {
      "text/plain": [
       "Id                 int64\n",
       "SepalLengthCm    float64\n",
       "SepalWidthCm     float64\n",
       "PetalLengthCm    float64\n",
       "PetalWidthCm     float64\n",
       "Species           object\n",
       "dtype: object"
      ]
     },
     "execution_count": 92,
     "metadata": {},
     "output_type": "execute_result"
    }
   ],
   "source": [
    "df.dtypes"
   ]
  },
  {
   "cell_type": "code",
   "execution_count": 104,
   "id": "ec65fb78",
   "metadata": {},
   "outputs": [],
   "source": [
    "x=np.array(df[['SepalLengthCm','SepalWidthCm','PetalLengthCm','PetalWidthCm']])\n",
    "# x=np.array(df['SepalLengthCm','SepalWidthCm','PetalLengthCm','PetalWidthCm'], size= (4))\n",
    "y=np.array(df['Species'])"
   ]
  },
  {
   "cell_type": "code",
   "execution_count": 105,
   "id": "20629fd3",
   "metadata": {},
   "outputs": [],
   "source": [
    "x_train, x_test, y_train, y_test = train_test_split(x,y, test_size=0.1, random_state=22)"
   ]
  },
  {
   "cell_type": "code",
   "execution_count": 106,
   "id": "c9185d4e",
   "metadata": {},
   "outputs": [],
   "source": [
    "model = DecisionTreeClassifier()"
   ]
  },
  {
   "cell_type": "code",
   "execution_count": 107,
   "id": "755dfb28",
   "metadata": {},
   "outputs": [
    {
     "data": {
      "text/html": [
       "<style>#sk-container-id-1 {color: black;background-color: white;}#sk-container-id-1 pre{padding: 0;}#sk-container-id-1 div.sk-toggleable {background-color: white;}#sk-container-id-1 label.sk-toggleable__label {cursor: pointer;display: block;width: 100%;margin-bottom: 0;padding: 0.3em;box-sizing: border-box;text-align: center;}#sk-container-id-1 label.sk-toggleable__label-arrow:before {content: \"▸\";float: left;margin-right: 0.25em;color: #696969;}#sk-container-id-1 label.sk-toggleable__label-arrow:hover:before {color: black;}#sk-container-id-1 div.sk-estimator:hover label.sk-toggleable__label-arrow:before {color: black;}#sk-container-id-1 div.sk-toggleable__content {max-height: 0;max-width: 0;overflow: hidden;text-align: left;background-color: #f0f8ff;}#sk-container-id-1 div.sk-toggleable__content pre {margin: 0.2em;color: black;border-radius: 0.25em;background-color: #f0f8ff;}#sk-container-id-1 input.sk-toggleable__control:checked~div.sk-toggleable__content {max-height: 200px;max-width: 100%;overflow: auto;}#sk-container-id-1 input.sk-toggleable__control:checked~label.sk-toggleable__label-arrow:before {content: \"▾\";}#sk-container-id-1 div.sk-estimator input.sk-toggleable__control:checked~label.sk-toggleable__label {background-color: #d4ebff;}#sk-container-id-1 div.sk-label input.sk-toggleable__control:checked~label.sk-toggleable__label {background-color: #d4ebff;}#sk-container-id-1 input.sk-hidden--visually {border: 0;clip: rect(1px 1px 1px 1px);clip: rect(1px, 1px, 1px, 1px);height: 1px;margin: -1px;overflow: hidden;padding: 0;position: absolute;width: 1px;}#sk-container-id-1 div.sk-estimator {font-family: monospace;background-color: #f0f8ff;border: 1px dotted black;border-radius: 0.25em;box-sizing: border-box;margin-bottom: 0.5em;}#sk-container-id-1 div.sk-estimator:hover {background-color: #d4ebff;}#sk-container-id-1 div.sk-parallel-item::after {content: \"\";width: 100%;border-bottom: 1px solid gray;flex-grow: 1;}#sk-container-id-1 div.sk-label:hover label.sk-toggleable__label {background-color: #d4ebff;}#sk-container-id-1 div.sk-serial::before {content: \"\";position: absolute;border-left: 1px solid gray;box-sizing: border-box;top: 0;bottom: 0;left: 50%;z-index: 0;}#sk-container-id-1 div.sk-serial {display: flex;flex-direction: column;align-items: center;background-color: white;padding-right: 0.2em;padding-left: 0.2em;position: relative;}#sk-container-id-1 div.sk-item {position: relative;z-index: 1;}#sk-container-id-1 div.sk-parallel {display: flex;align-items: stretch;justify-content: center;background-color: white;position: relative;}#sk-container-id-1 div.sk-item::before, #sk-container-id-1 div.sk-parallel-item::before {content: \"\";position: absolute;border-left: 1px solid gray;box-sizing: border-box;top: 0;bottom: 0;left: 50%;z-index: -1;}#sk-container-id-1 div.sk-parallel-item {display: flex;flex-direction: column;z-index: 1;position: relative;background-color: white;}#sk-container-id-1 div.sk-parallel-item:first-child::after {align-self: flex-end;width: 50%;}#sk-container-id-1 div.sk-parallel-item:last-child::after {align-self: flex-start;width: 50%;}#sk-container-id-1 div.sk-parallel-item:only-child::after {width: 0;}#sk-container-id-1 div.sk-dashed-wrapped {border: 1px dashed gray;margin: 0 0.4em 0.5em 0.4em;box-sizing: border-box;padding-bottom: 0.4em;background-color: white;}#sk-container-id-1 div.sk-label label {font-family: monospace;font-weight: bold;display: inline-block;line-height: 1.2em;}#sk-container-id-1 div.sk-label-container {text-align: center;}#sk-container-id-1 div.sk-container {/* jupyter's `normalize.less` sets `[hidden] { display: none; }` but bootstrap.min.css set `[hidden] { display: none !important; }` so we also need the `!important` here to be able to override the default hidden behavior on the sphinx rendered scikit-learn.org. See: https://github.com/scikit-learn/scikit-learn/issues/21755 */display: inline-block !important;position: relative;}#sk-container-id-1 div.sk-text-repr-fallback {display: none;}</style><div id=\"sk-container-id-1\" class=\"sk-top-container\"><div class=\"sk-text-repr-fallback\"><pre>DecisionTreeClassifier()</pre><b>In a Jupyter environment, please rerun this cell to show the HTML representation or trust the notebook. <br />On GitHub, the HTML representation is unable to render, please try loading this page with nbviewer.org.</b></div><div class=\"sk-container\" hidden><div class=\"sk-item\"><div class=\"sk-estimator sk-toggleable\"><input class=\"sk-toggleable__control sk-hidden--visually\" id=\"sk-estimator-id-1\" type=\"checkbox\" checked><label for=\"sk-estimator-id-1\" class=\"sk-toggleable__label sk-toggleable__label-arrow\">DecisionTreeClassifier</label><div class=\"sk-toggleable__content\"><pre>DecisionTreeClassifier()</pre></div></div></div></div></div>"
      ],
      "text/plain": [
       "DecisionTreeClassifier()"
      ]
     },
     "execution_count": 107,
     "metadata": {},
     "output_type": "execute_result"
    }
   ],
   "source": [
    "model.fit(x_train, y_train)"
   ]
  },
  {
   "cell_type": "code",
   "execution_count": 109,
   "id": "627eaaed",
   "metadata": {},
   "outputs": [
    {
     "data": {
      "text/plain": [
       "0.9333333333333333"
      ]
     },
     "execution_count": 109,
     "metadata": {},
     "output_type": "execute_result"
    }
   ],
   "source": [
    "model.score(x_test,y_test)"
   ]
  },
  {
   "cell_type": "code",
   "execution_count": 118,
   "id": "eebae8cc",
   "metadata": {},
   "outputs": [
    {
     "name": "stdout",
     "output_type": "stream",
     "text": [
      "Iris-setosa Iris-setosa\n"
     ]
    }
   ],
   "source": [
    "orgi=y_test[0]\n",
    "pred=model.predict([x_test[0]])\n",
    "pred[0]\n",
    "\n",
    "print(orgi, pred[0])"
   ]
  },
  {
   "cell_type": "code",
   "execution_count": 99,
   "id": "735c5fe3",
   "metadata": {},
   "outputs": [],
   "source": [
    "# Q9: Train a Logistic Regression model on breast cancer dataset and evaluate it using confusion matrix.\n",
    "from sklearn.datasets import load_breast_cancer\n",
    "from sklearn.linear_model import LogisticRegression\n"
   ]
  },
  {
   "cell_type": "code",
   "execution_count": 133,
   "id": "07cd53f8",
   "metadata": {},
   "outputs": [
    {
     "data": {
      "text/html": [
       "<div>\n",
       "<style scoped>\n",
       "    .dataframe tbody tr th:only-of-type {\n",
       "        vertical-align: middle;\n",
       "    }\n",
       "\n",
       "    .dataframe tbody tr th {\n",
       "        vertical-align: top;\n",
       "    }\n",
       "\n",
       "    .dataframe thead th {\n",
       "        text-align: right;\n",
       "    }\n",
       "</style>\n",
       "<table border=\"1\" class=\"dataframe\">\n",
       "  <thead>\n",
       "    <tr style=\"text-align: right;\">\n",
       "      <th></th>\n",
       "      <th>id</th>\n",
       "      <th>name</th>\n",
       "      <th>radius</th>\n",
       "      <th>texture</th>\n",
       "      <th>perimeter</th>\n",
       "      <th>area</th>\n",
       "      <th>smoothness</th>\n",
       "      <th>compactness</th>\n",
       "      <th>concavity</th>\n",
       "      <th>symmetry</th>\n",
       "      <th>fractal_dimension</th>\n",
       "      <th>age</th>\n",
       "      <th>diagnosis</th>\n",
       "    </tr>\n",
       "  </thead>\n",
       "  <tbody>\n",
       "    <tr>\n",
       "      <th>0</th>\n",
       "      <td>ID842302</td>\n",
       "      <td>Glynnis Munson</td>\n",
       "      <td>NaN</td>\n",
       "      <td>10.38</td>\n",
       "      <td>122.80</td>\n",
       "      <td>1001.0</td>\n",
       "      <td>0.11840</td>\n",
       "      <td>0.27760</td>\n",
       "      <td>0.30010</td>\n",
       "      <td>0.2419</td>\n",
       "      <td>0.07871</td>\n",
       "      <td>35</td>\n",
       "      <td>1</td>\n",
       "    </tr>\n",
       "    <tr>\n",
       "      <th>1</th>\n",
       "      <td>ID842517</td>\n",
       "      <td>Lana Behrer</td>\n",
       "      <td>20.57</td>\n",
       "      <td>17.77</td>\n",
       "      <td>132.90</td>\n",
       "      <td>1326.0</td>\n",
       "      <td>0.08474</td>\n",
       "      <td>0.07864</td>\n",
       "      <td>0.08690</td>\n",
       "      <td>0.1812</td>\n",
       "      <td>0.05667</td>\n",
       "      <td>27</td>\n",
       "      <td>1</td>\n",
       "    </tr>\n",
       "    <tr>\n",
       "      <th>2</th>\n",
       "      <td>ID84300903</td>\n",
       "      <td>Devondra Vanvalkenburgh</td>\n",
       "      <td>19.69</td>\n",
       "      <td>21.25</td>\n",
       "      <td>130.00</td>\n",
       "      <td>1203.0</td>\n",
       "      <td>0.10960</td>\n",
       "      <td>0.15990</td>\n",
       "      <td>0.19740</td>\n",
       "      <td>0.2069</td>\n",
       "      <td>0.05999</td>\n",
       "      <td>31</td>\n",
       "      <td>1</td>\n",
       "    </tr>\n",
       "    <tr>\n",
       "      <th>3</th>\n",
       "      <td>ID84348301</td>\n",
       "      <td>Glory Maravalle</td>\n",
       "      <td>NaN</td>\n",
       "      <td>20.38</td>\n",
       "      <td>77.58</td>\n",
       "      <td>386.1</td>\n",
       "      <td>0.14250</td>\n",
       "      <td>0.28390</td>\n",
       "      <td>0.24140</td>\n",
       "      <td>0.2597</td>\n",
       "      <td>0.09744</td>\n",
       "      <td>49</td>\n",
       "      <td>1</td>\n",
       "    </tr>\n",
       "    <tr>\n",
       "      <th>4</th>\n",
       "      <td>ID84358402</td>\n",
       "      <td>Mellie Mccurdy</td>\n",
       "      <td>20.29</td>\n",
       "      <td>14.34</td>\n",
       "      <td>135.10</td>\n",
       "      <td>1297.0</td>\n",
       "      <td>0.10030</td>\n",
       "      <td>0.13280</td>\n",
       "      <td>0.19800</td>\n",
       "      <td>0.1809</td>\n",
       "      <td>0.05883</td>\n",
       "      <td>20</td>\n",
       "      <td>1</td>\n",
       "    </tr>\n",
       "    <tr>\n",
       "      <th>...</th>\n",
       "      <td>...</td>\n",
       "      <td>...</td>\n",
       "      <td>...</td>\n",
       "      <td>...</td>\n",
       "      <td>...</td>\n",
       "      <td>...</td>\n",
       "      <td>...</td>\n",
       "      <td>...</td>\n",
       "      <td>...</td>\n",
       "      <td>...</td>\n",
       "      <td>...</td>\n",
       "      <td>...</td>\n",
       "      <td>...</td>\n",
       "    </tr>\n",
       "    <tr>\n",
       "      <th>564</th>\n",
       "      <td>ID926424</td>\n",
       "      <td>Liz Babb</td>\n",
       "      <td>21.56</td>\n",
       "      <td>22.39</td>\n",
       "      <td>142.00</td>\n",
       "      <td>1479.0</td>\n",
       "      <td>0.11100</td>\n",
       "      <td>0.11590</td>\n",
       "      <td>0.24390</td>\n",
       "      <td>0.1726</td>\n",
       "      <td>0.05623</td>\n",
       "      <td>18</td>\n",
       "      <td>1</td>\n",
       "    </tr>\n",
       "    <tr>\n",
       "      <th>565</th>\n",
       "      <td>ID926682</td>\n",
       "      <td>Silvana Shen</td>\n",
       "      <td>20.13</td>\n",
       "      <td>28.25</td>\n",
       "      <td>131.20</td>\n",
       "      <td>1261.0</td>\n",
       "      <td>0.09780</td>\n",
       "      <td>0.10340</td>\n",
       "      <td>0.14400</td>\n",
       "      <td>0.1752</td>\n",
       "      <td>0.05533</td>\n",
       "      <td>24</td>\n",
       "      <td>1</td>\n",
       "    </tr>\n",
       "    <tr>\n",
       "      <th>566</th>\n",
       "      <td>ID926954</td>\n",
       "      <td>Sunny Hiorns</td>\n",
       "      <td>16.60</td>\n",
       "      <td>28.08</td>\n",
       "      <td>108.30</td>\n",
       "      <td>858.1</td>\n",
       "      <td>0.08455</td>\n",
       "      <td>0.10230</td>\n",
       "      <td>0.09251</td>\n",
       "      <td>0.1590</td>\n",
       "      <td>0.05648</td>\n",
       "      <td>21</td>\n",
       "      <td>1</td>\n",
       "    </tr>\n",
       "    <tr>\n",
       "      <th>567</th>\n",
       "      <td>ID927241</td>\n",
       "      <td>Colline Beade</td>\n",
       "      <td>20.60</td>\n",
       "      <td>29.33</td>\n",
       "      <td>140.10</td>\n",
       "      <td>1265.0</td>\n",
       "      <td>0.11780</td>\n",
       "      <td>0.27700</td>\n",
       "      <td>0.35140</td>\n",
       "      <td>0.2397</td>\n",
       "      <td>0.07016</td>\n",
       "      <td>41</td>\n",
       "      <td>1</td>\n",
       "    </tr>\n",
       "    <tr>\n",
       "      <th>568</th>\n",
       "      <td>ID92751</td>\n",
       "      <td>Rita Ryan blanco</td>\n",
       "      <td>7.76</td>\n",
       "      <td>24.54</td>\n",
       "      <td>47.92</td>\n",
       "      <td>181.0</td>\n",
       "      <td>0.05263</td>\n",
       "      <td>0.04362</td>\n",
       "      <td>0.00000</td>\n",
       "      <td>0.1587</td>\n",
       "      <td>0.05884</td>\n",
       "      <td>37</td>\n",
       "      <td>0</td>\n",
       "    </tr>\n",
       "  </tbody>\n",
       "</table>\n",
       "<p>569 rows × 13 columns</p>\n",
       "</div>"
      ],
      "text/plain": [
       "             id                     name  radius  texture  perimeter    area  \\\n",
       "0      ID842302           Glynnis Munson     NaN    10.38     122.80  1001.0   \n",
       "1      ID842517              Lana Behrer   20.57    17.77     132.90  1326.0   \n",
       "2    ID84300903  Devondra Vanvalkenburgh   19.69    21.25     130.00  1203.0   \n",
       "3    ID84348301          Glory Maravalle     NaN    20.38      77.58   386.1   \n",
       "4    ID84358402           Mellie Mccurdy   20.29    14.34     135.10  1297.0   \n",
       "..          ...                      ...     ...      ...        ...     ...   \n",
       "564    ID926424                 Liz Babb   21.56    22.39     142.00  1479.0   \n",
       "565    ID926682             Silvana Shen   20.13    28.25     131.20  1261.0   \n",
       "566    ID926954             Sunny Hiorns   16.60    28.08     108.30   858.1   \n",
       "567    ID927241            Colline Beade   20.60    29.33     140.10  1265.0   \n",
       "568     ID92751         Rita Ryan blanco    7.76    24.54      47.92   181.0   \n",
       "\n",
       "     smoothness  compactness  concavity  symmetry  fractal_dimension  age  \\\n",
       "0       0.11840      0.27760    0.30010    0.2419            0.07871   35   \n",
       "1       0.08474      0.07864    0.08690    0.1812            0.05667   27   \n",
       "2       0.10960      0.15990    0.19740    0.2069            0.05999   31   \n",
       "3       0.14250      0.28390    0.24140    0.2597            0.09744   49   \n",
       "4       0.10030      0.13280    0.19800    0.1809            0.05883   20   \n",
       "..          ...          ...        ...       ...                ...  ...   \n",
       "564     0.11100      0.11590    0.24390    0.1726            0.05623   18   \n",
       "565     0.09780      0.10340    0.14400    0.1752            0.05533   24   \n",
       "566     0.08455      0.10230    0.09251    0.1590            0.05648   21   \n",
       "567     0.11780      0.27700    0.35140    0.2397            0.07016   41   \n",
       "568     0.05263      0.04362    0.00000    0.1587            0.05884   37   \n",
       "\n",
       "     diagnosis  \n",
       "0            1  \n",
       "1            1  \n",
       "2            1  \n",
       "3            1  \n",
       "4            1  \n",
       "..         ...  \n",
       "564          1  \n",
       "565          1  \n",
       "566          1  \n",
       "567          1  \n",
       "568          0  \n",
       "\n",
       "[569 rows x 13 columns]"
      ]
     },
     "execution_count": 133,
     "metadata": {},
     "output_type": "execute_result"
    }
   ],
   "source": [
    "df = pd.read_csv('cancer.csv')\n",
    "df"
   ]
  },
  {
   "cell_type": "code",
   "execution_count": 134,
   "id": "1cc2b976",
   "metadata": {},
   "outputs": [
    {
     "data": {
      "text/html": [
       "<div>\n",
       "<style scoped>\n",
       "    .dataframe tbody tr th:only-of-type {\n",
       "        vertical-align: middle;\n",
       "    }\n",
       "\n",
       "    .dataframe tbody tr th {\n",
       "        vertical-align: top;\n",
       "    }\n",
       "\n",
       "    .dataframe thead th {\n",
       "        text-align: right;\n",
       "    }\n",
       "</style>\n",
       "<table border=\"1\" class=\"dataframe\">\n",
       "  <thead>\n",
       "    <tr style=\"text-align: right;\">\n",
       "      <th></th>\n",
       "      <th>radius</th>\n",
       "      <th>texture</th>\n",
       "      <th>perimeter</th>\n",
       "      <th>area</th>\n",
       "      <th>smoothness</th>\n",
       "      <th>compactness</th>\n",
       "      <th>concavity</th>\n",
       "      <th>symmetry</th>\n",
       "      <th>fractal_dimension</th>\n",
       "      <th>age</th>\n",
       "      <th>diagnosis</th>\n",
       "    </tr>\n",
       "  </thead>\n",
       "  <tbody>\n",
       "    <tr>\n",
       "      <th>0</th>\n",
       "      <td>NaN</td>\n",
       "      <td>10.38</td>\n",
       "      <td>122.80</td>\n",
       "      <td>1001.0</td>\n",
       "      <td>0.11840</td>\n",
       "      <td>0.27760</td>\n",
       "      <td>0.30010</td>\n",
       "      <td>0.2419</td>\n",
       "      <td>0.07871</td>\n",
       "      <td>35</td>\n",
       "      <td>1</td>\n",
       "    </tr>\n",
       "    <tr>\n",
       "      <th>1</th>\n",
       "      <td>20.57</td>\n",
       "      <td>17.77</td>\n",
       "      <td>132.90</td>\n",
       "      <td>1326.0</td>\n",
       "      <td>0.08474</td>\n",
       "      <td>0.07864</td>\n",
       "      <td>0.08690</td>\n",
       "      <td>0.1812</td>\n",
       "      <td>0.05667</td>\n",
       "      <td>27</td>\n",
       "      <td>1</td>\n",
       "    </tr>\n",
       "    <tr>\n",
       "      <th>2</th>\n",
       "      <td>19.69</td>\n",
       "      <td>21.25</td>\n",
       "      <td>130.00</td>\n",
       "      <td>1203.0</td>\n",
       "      <td>0.10960</td>\n",
       "      <td>0.15990</td>\n",
       "      <td>0.19740</td>\n",
       "      <td>0.2069</td>\n",
       "      <td>0.05999</td>\n",
       "      <td>31</td>\n",
       "      <td>1</td>\n",
       "    </tr>\n",
       "    <tr>\n",
       "      <th>3</th>\n",
       "      <td>NaN</td>\n",
       "      <td>20.38</td>\n",
       "      <td>77.58</td>\n",
       "      <td>386.1</td>\n",
       "      <td>0.14250</td>\n",
       "      <td>0.28390</td>\n",
       "      <td>0.24140</td>\n",
       "      <td>0.2597</td>\n",
       "      <td>0.09744</td>\n",
       "      <td>49</td>\n",
       "      <td>1</td>\n",
       "    </tr>\n",
       "    <tr>\n",
       "      <th>4</th>\n",
       "      <td>20.29</td>\n",
       "      <td>14.34</td>\n",
       "      <td>135.10</td>\n",
       "      <td>1297.0</td>\n",
       "      <td>0.10030</td>\n",
       "      <td>0.13280</td>\n",
       "      <td>0.19800</td>\n",
       "      <td>0.1809</td>\n",
       "      <td>0.05883</td>\n",
       "      <td>20</td>\n",
       "      <td>1</td>\n",
       "    </tr>\n",
       "    <tr>\n",
       "      <th>...</th>\n",
       "      <td>...</td>\n",
       "      <td>...</td>\n",
       "      <td>...</td>\n",
       "      <td>...</td>\n",
       "      <td>...</td>\n",
       "      <td>...</td>\n",
       "      <td>...</td>\n",
       "      <td>...</td>\n",
       "      <td>...</td>\n",
       "      <td>...</td>\n",
       "      <td>...</td>\n",
       "    </tr>\n",
       "    <tr>\n",
       "      <th>564</th>\n",
       "      <td>21.56</td>\n",
       "      <td>22.39</td>\n",
       "      <td>142.00</td>\n",
       "      <td>1479.0</td>\n",
       "      <td>0.11100</td>\n",
       "      <td>0.11590</td>\n",
       "      <td>0.24390</td>\n",
       "      <td>0.1726</td>\n",
       "      <td>0.05623</td>\n",
       "      <td>18</td>\n",
       "      <td>1</td>\n",
       "    </tr>\n",
       "    <tr>\n",
       "      <th>565</th>\n",
       "      <td>20.13</td>\n",
       "      <td>28.25</td>\n",
       "      <td>131.20</td>\n",
       "      <td>1261.0</td>\n",
       "      <td>0.09780</td>\n",
       "      <td>0.10340</td>\n",
       "      <td>0.14400</td>\n",
       "      <td>0.1752</td>\n",
       "      <td>0.05533</td>\n",
       "      <td>24</td>\n",
       "      <td>1</td>\n",
       "    </tr>\n",
       "    <tr>\n",
       "      <th>566</th>\n",
       "      <td>16.60</td>\n",
       "      <td>28.08</td>\n",
       "      <td>108.30</td>\n",
       "      <td>858.1</td>\n",
       "      <td>0.08455</td>\n",
       "      <td>0.10230</td>\n",
       "      <td>0.09251</td>\n",
       "      <td>0.1590</td>\n",
       "      <td>0.05648</td>\n",
       "      <td>21</td>\n",
       "      <td>1</td>\n",
       "    </tr>\n",
       "    <tr>\n",
       "      <th>567</th>\n",
       "      <td>20.60</td>\n",
       "      <td>29.33</td>\n",
       "      <td>140.10</td>\n",
       "      <td>1265.0</td>\n",
       "      <td>0.11780</td>\n",
       "      <td>0.27700</td>\n",
       "      <td>0.35140</td>\n",
       "      <td>0.2397</td>\n",
       "      <td>0.07016</td>\n",
       "      <td>41</td>\n",
       "      <td>1</td>\n",
       "    </tr>\n",
       "    <tr>\n",
       "      <th>568</th>\n",
       "      <td>7.76</td>\n",
       "      <td>24.54</td>\n",
       "      <td>47.92</td>\n",
       "      <td>181.0</td>\n",
       "      <td>0.05263</td>\n",
       "      <td>0.04362</td>\n",
       "      <td>0.00000</td>\n",
       "      <td>0.1587</td>\n",
       "      <td>0.05884</td>\n",
       "      <td>37</td>\n",
       "      <td>0</td>\n",
       "    </tr>\n",
       "  </tbody>\n",
       "</table>\n",
       "<p>569 rows × 11 columns</p>\n",
       "</div>"
      ],
      "text/plain": [
       "     radius  texture  perimeter    area  smoothness  compactness  concavity  \\\n",
       "0       NaN    10.38     122.80  1001.0     0.11840      0.27760    0.30010   \n",
       "1     20.57    17.77     132.90  1326.0     0.08474      0.07864    0.08690   \n",
       "2     19.69    21.25     130.00  1203.0     0.10960      0.15990    0.19740   \n",
       "3       NaN    20.38      77.58   386.1     0.14250      0.28390    0.24140   \n",
       "4     20.29    14.34     135.10  1297.0     0.10030      0.13280    0.19800   \n",
       "..      ...      ...        ...     ...         ...          ...        ...   \n",
       "564   21.56    22.39     142.00  1479.0     0.11100      0.11590    0.24390   \n",
       "565   20.13    28.25     131.20  1261.0     0.09780      0.10340    0.14400   \n",
       "566   16.60    28.08     108.30   858.1     0.08455      0.10230    0.09251   \n",
       "567   20.60    29.33     140.10  1265.0     0.11780      0.27700    0.35140   \n",
       "568    7.76    24.54      47.92   181.0     0.05263      0.04362    0.00000   \n",
       "\n",
       "     symmetry  fractal_dimension  age  diagnosis  \n",
       "0      0.2419            0.07871   35          1  \n",
       "1      0.1812            0.05667   27          1  \n",
       "2      0.2069            0.05999   31          1  \n",
       "3      0.2597            0.09744   49          1  \n",
       "4      0.1809            0.05883   20          1  \n",
       "..        ...                ...  ...        ...  \n",
       "564    0.1726            0.05623   18          1  \n",
       "565    0.1752            0.05533   24          1  \n",
       "566    0.1590            0.05648   21          1  \n",
       "567    0.2397            0.07016   41          1  \n",
       "568    0.1587            0.05884   37          0  \n",
       "\n",
       "[569 rows x 11 columns]"
      ]
     },
     "execution_count": 134,
     "metadata": {},
     "output_type": "execute_result"
    }
   ],
   "source": [
    "df.drop(columns=['id','name'], inplace=True)\n",
    "df\n"
   ]
  },
  {
   "cell_type": "code",
   "execution_count": 135,
   "id": "45e08fb2",
   "metadata": {},
   "outputs": [
    {
     "data": {
      "text/plain": [
       "radius               0\n",
       "texture              0\n",
       "perimeter            0\n",
       "area                 0\n",
       "smoothness           0\n",
       "compactness          0\n",
       "concavity            0\n",
       "symmetry             0\n",
       "fractal_dimension    0\n",
       "age                  0\n",
       "diagnosis            0\n",
       "dtype: int64"
      ]
     },
     "execution_count": 135,
     "metadata": {},
     "output_type": "execute_result"
    }
   ],
   "source": [
    "df.isna().sum()\n",
    "df.dropna(inplace=True)\n",
    "df.isna().sum()\n"
   ]
  },
  {
   "cell_type": "code",
   "execution_count": 136,
   "id": "762d8f23",
   "metadata": {},
   "outputs": [
    {
     "data": {
      "text/plain": [
       "radius               410\n",
       "texture              431\n",
       "perimeter            460\n",
       "area                 474\n",
       "smoothness           426\n",
       "compactness          473\n",
       "concavity            475\n",
       "symmetry             382\n",
       "fractal_dimension    429\n",
       "age                   47\n",
       "diagnosis              2\n",
       "dtype: int64"
      ]
     },
     "execution_count": 136,
     "metadata": {},
     "output_type": "execute_result"
    }
   ],
   "source": [
    "df.nunique()"
   ]
  },
  {
   "cell_type": "code",
   "execution_count": 138,
   "id": "7770c51f",
   "metadata": {},
   "outputs": [],
   "source": [
    "x=np.array(df[['radius','texture','perimeter','area','smoothness','compactness','concavity','symmetry','fractal_dimension','age']])\n",
    "# x=np.array(df['SepalLengthCm','SepalWidthCm','PetalLengthCm','PetalWidthCm'], size= (4))\n",
    "y=np.array(df['diagnosis'])"
   ]
  },
  {
   "cell_type": "code",
   "execution_count": 139,
   "id": "662b4658",
   "metadata": {},
   "outputs": [],
   "source": [
    "x_train, x_test, y_train, y_test = train_test_split(x,y, test_size=0.1, random_state=22)"
   ]
  },
  {
   "cell_type": "code",
   "execution_count": 140,
   "id": "f269e5b5",
   "metadata": {},
   "outputs": [],
   "source": [
    "model = LogisticRegression()"
   ]
  },
  {
   "cell_type": "code",
   "execution_count": 141,
   "id": "9e7b41cc",
   "metadata": {},
   "outputs": [
    {
     "name": "stderr",
     "output_type": "stream",
     "text": [
      "c:\\Users\\PMLS\\anaconda3\\Lib\\site-packages\\sklearn\\linear_model\\_logistic.py:458: ConvergenceWarning: lbfgs failed to converge (status=1):\n",
      "STOP: TOTAL NO. of ITERATIONS REACHED LIMIT.\n",
      "\n",
      "Increase the number of iterations (max_iter) or scale the data as shown in:\n",
      "    https://scikit-learn.org/stable/modules/preprocessing.html\n",
      "Please also refer to the documentation for alternative solver options:\n",
      "    https://scikit-learn.org/stable/modules/linear_model.html#logistic-regression\n",
      "  n_iter_i = _check_optimize_result(\n"
     ]
    },
    {
     "data": {
      "text/html": [
       "<style>#sk-container-id-2 {color: black;background-color: white;}#sk-container-id-2 pre{padding: 0;}#sk-container-id-2 div.sk-toggleable {background-color: white;}#sk-container-id-2 label.sk-toggleable__label {cursor: pointer;display: block;width: 100%;margin-bottom: 0;padding: 0.3em;box-sizing: border-box;text-align: center;}#sk-container-id-2 label.sk-toggleable__label-arrow:before {content: \"▸\";float: left;margin-right: 0.25em;color: #696969;}#sk-container-id-2 label.sk-toggleable__label-arrow:hover:before {color: black;}#sk-container-id-2 div.sk-estimator:hover label.sk-toggleable__label-arrow:before {color: black;}#sk-container-id-2 div.sk-toggleable__content {max-height: 0;max-width: 0;overflow: hidden;text-align: left;background-color: #f0f8ff;}#sk-container-id-2 div.sk-toggleable__content pre {margin: 0.2em;color: black;border-radius: 0.25em;background-color: #f0f8ff;}#sk-container-id-2 input.sk-toggleable__control:checked~div.sk-toggleable__content {max-height: 200px;max-width: 100%;overflow: auto;}#sk-container-id-2 input.sk-toggleable__control:checked~label.sk-toggleable__label-arrow:before {content: \"▾\";}#sk-container-id-2 div.sk-estimator input.sk-toggleable__control:checked~label.sk-toggleable__label {background-color: #d4ebff;}#sk-container-id-2 div.sk-label input.sk-toggleable__control:checked~label.sk-toggleable__label {background-color: #d4ebff;}#sk-container-id-2 input.sk-hidden--visually {border: 0;clip: rect(1px 1px 1px 1px);clip: rect(1px, 1px, 1px, 1px);height: 1px;margin: -1px;overflow: hidden;padding: 0;position: absolute;width: 1px;}#sk-container-id-2 div.sk-estimator {font-family: monospace;background-color: #f0f8ff;border: 1px dotted black;border-radius: 0.25em;box-sizing: border-box;margin-bottom: 0.5em;}#sk-container-id-2 div.sk-estimator:hover {background-color: #d4ebff;}#sk-container-id-2 div.sk-parallel-item::after {content: \"\";width: 100%;border-bottom: 1px solid gray;flex-grow: 1;}#sk-container-id-2 div.sk-label:hover label.sk-toggleable__label {background-color: #d4ebff;}#sk-container-id-2 div.sk-serial::before {content: \"\";position: absolute;border-left: 1px solid gray;box-sizing: border-box;top: 0;bottom: 0;left: 50%;z-index: 0;}#sk-container-id-2 div.sk-serial {display: flex;flex-direction: column;align-items: center;background-color: white;padding-right: 0.2em;padding-left: 0.2em;position: relative;}#sk-container-id-2 div.sk-item {position: relative;z-index: 1;}#sk-container-id-2 div.sk-parallel {display: flex;align-items: stretch;justify-content: center;background-color: white;position: relative;}#sk-container-id-2 div.sk-item::before, #sk-container-id-2 div.sk-parallel-item::before {content: \"\";position: absolute;border-left: 1px solid gray;box-sizing: border-box;top: 0;bottom: 0;left: 50%;z-index: -1;}#sk-container-id-2 div.sk-parallel-item {display: flex;flex-direction: column;z-index: 1;position: relative;background-color: white;}#sk-container-id-2 div.sk-parallel-item:first-child::after {align-self: flex-end;width: 50%;}#sk-container-id-2 div.sk-parallel-item:last-child::after {align-self: flex-start;width: 50%;}#sk-container-id-2 div.sk-parallel-item:only-child::after {width: 0;}#sk-container-id-2 div.sk-dashed-wrapped {border: 1px dashed gray;margin: 0 0.4em 0.5em 0.4em;box-sizing: border-box;padding-bottom: 0.4em;background-color: white;}#sk-container-id-2 div.sk-label label {font-family: monospace;font-weight: bold;display: inline-block;line-height: 1.2em;}#sk-container-id-2 div.sk-label-container {text-align: center;}#sk-container-id-2 div.sk-container {/* jupyter's `normalize.less` sets `[hidden] { display: none; }` but bootstrap.min.css set `[hidden] { display: none !important; }` so we also need the `!important` here to be able to override the default hidden behavior on the sphinx rendered scikit-learn.org. See: https://github.com/scikit-learn/scikit-learn/issues/21755 */display: inline-block !important;position: relative;}#sk-container-id-2 div.sk-text-repr-fallback {display: none;}</style><div id=\"sk-container-id-2\" class=\"sk-top-container\"><div class=\"sk-text-repr-fallback\"><pre>LogisticRegression()</pre><b>In a Jupyter environment, please rerun this cell to show the HTML representation or trust the notebook. <br />On GitHub, the HTML representation is unable to render, please try loading this page with nbviewer.org.</b></div><div class=\"sk-container\" hidden><div class=\"sk-item\"><div class=\"sk-estimator sk-toggleable\"><input class=\"sk-toggleable__control sk-hidden--visually\" id=\"sk-estimator-id-2\" type=\"checkbox\" checked><label for=\"sk-estimator-id-2\" class=\"sk-toggleable__label sk-toggleable__label-arrow\">LogisticRegression</label><div class=\"sk-toggleable__content\"><pre>LogisticRegression()</pre></div></div></div></div></div>"
      ],
      "text/plain": [
       "LogisticRegression()"
      ]
     },
     "execution_count": 141,
     "metadata": {},
     "output_type": "execute_result"
    }
   ],
   "source": [
    "model.fit(x_train,y_train)"
   ]
  },
  {
   "cell_type": "code",
   "execution_count": 142,
   "id": "4147b3f1",
   "metadata": {},
   "outputs": [
    {
     "data": {
      "text/plain": [
       "0.94"
      ]
     },
     "execution_count": 142,
     "metadata": {},
     "output_type": "execute_result"
    }
   ],
   "source": [
    "model.score(x_test,y_test)"
   ]
  },
  {
   "cell_type": "code",
   "execution_count": 10,
   "id": "e435cb95",
   "metadata": {},
   "outputs": [],
   "source": [
    "# model.predict_log_proba(x)"
   ]
  },
  {
   "cell_type": "markdown",
   "id": "1e66ce75",
   "metadata": {},
   "source": [
    "## Section 7: Streamlit & Tkinter\n",
    "Answer the following project-related questions."
   ]
  },
  {
   "cell_type": "code",
   "execution_count": null,
   "id": "9355d4be",
   "metadata": {},
   "outputs": [],
   "source": [
    "# Q10: Build a basic Streamlit form with input for name and age and display a welcome message.\n",
    "# Your code here\n",
    "\n",
    "import streamlit as st\n",
    "\n",
    "name= st.text_input(\"Enter Your name\")\n",
    "Age = st.number_input(\"Enter Your Age\")\n",
    "\n",
    "if st.button('Show'):\n",
    "    st.write(f\"Welcome {name}, ypur age is {Age}\")\n",
    "\n"
   ]
  },
  {
   "cell_type": "code",
   "execution_count": null,
   "id": "255850cf",
   "metadata": {},
   "outputs": [
    {
     "data": {
      "text/plain": [
       "''"
      ]
     },
     "execution_count": 2,
     "metadata": {},
     "output_type": "execute_result"
    }
   ],
   "source": [
    "# Q11: Create a basic Tkinter window with a label and button. Clicking the button should change the label text.\n",
    "# Your code here\n",
    "\n",
    "import tkinter as tk\n",
    "# import tkinter *\n",
    "\n",
    "window = tk.Tk()\n",
    "window.title(\"tkinter\")\n",
    "window.geometry('400,300')\n",
    "\n",
    "\n",
    "# tk.Label(window, text = \"Hello\")\n",
    "\n",
    "\n",
    "\n",
    "if tk.Button(window, \"click\"):\n",
    "    pass\n",
    "\n",
    "window.mainloop( )\n",
    "\n"
   ]
  },
  {
   "cell_type": "markdown",
   "id": "c3bc97ea",
   "metadata": {},
   "source": [
    "### Q26: Write code to demonstrate concept of Classes"
   ]
  },
  {
   "cell_type": "code",
   "execution_count": 48,
   "id": "44fc11ef",
   "metadata": {},
   "outputs": [
    {
     "name": "stdout",
     "output_type": "stream",
     "text": [
      " Name: Ahmed Age:23\n"
     ]
    }
   ],
   "source": [
    "class Employee:\n",
    "    def __init__(self, name, Age):\n",
    "        self.name = name\n",
    "        self.Age = Age\n",
    "    def show(self):\n",
    "        print(f\" Name: {self.name} Age:{self.Age}\")\n",
    "\n",
    "e1= Employee(\"Ahmed\",23)\n",
    "e1.show()"
   ]
  },
  {
   "cell_type": "markdown",
   "id": "56b528b9",
   "metadata": {},
   "source": [
    "### Q27: Write code to demonstrate concept of Inheritance"
   ]
  },
  {
   "cell_type": "code",
   "execution_count": 50,
   "id": "bf53693a",
   "metadata": {},
   "outputs": [
    {
     "name": "stdout",
     "output_type": "stream",
     "text": [
      " Name: Sara Age:23, salary:30000\n"
     ]
    }
   ],
   "source": [
    "class Manager(Employee):\n",
    "    def __init__(self, name, Age, salary):\n",
    "        super().__init__(name, Age)\n",
    "        self.salary = salary\n",
    "\n",
    "    def display(self):\n",
    "         print(f\" Name: {self.name} Age:{self.Age}, salary:{self.salary}\")\n",
    "\n",
    "\n",
    "m1= Manager(\"Sara\",23,30000)\n",
    "m1. display()"
   ]
  },
  {
   "cell_type": "markdown",
   "id": "902775c5",
   "metadata": {},
   "source": [
    "### Q28: Write code to demonstrate concept of Exception Handeling"
   ]
  },
  {
   "cell_type": "code",
   "execution_count": 55,
   "id": "11a56e64",
   "metadata": {},
   "outputs": [
    {
     "name": "stdout",
     "output_type": "stream",
     "text": [
      "Please enter integer Value\n"
     ]
    }
   ],
   "source": [
    "try: \n",
    "    num = int(input('Enter number: '))\n",
    "    print(f\"You entered {num}\")\n",
    "except ValueError:\n",
    "    print(\"Please enter integer Value\")\n"
   ]
  },
  {
   "cell_type": "markdown",
   "id": "920d366f",
   "metadata": {},
   "source": [
    "### Q29: Write code to demonstrate concept of Data Loading in Pandas"
   ]
  },
  {
   "cell_type": "code",
   "execution_count": 57,
   "id": "3f8db42a",
   "metadata": {},
   "outputs": [],
   "source": [
    "# Your code here\n",
    "data = pd.read_csv(\"Housing.csv\")\n",
    "# data"
   ]
  },
  {
   "cell_type": "markdown",
   "id": "e92472b7",
   "metadata": {},
   "source": [
    "### Q30: Write code to demonstrate concept of Numpy arrays in Multi dimensions"
   ]
  },
  {
   "cell_type": "code",
   "execution_count": 58,
   "id": "8960457a",
   "metadata": {},
   "outputs": [
    {
     "name": "stdout",
     "output_type": "stream",
     "text": [
      "[[[[[ 2  3 46  7 43]]]]]\n",
      "5\n"
     ]
    }
   ],
   "source": [
    "# Your code here\n",
    "\n",
    "arr = np.array([2,3,46,7,43],ndmin=5)\n",
    "print(arr)\n",
    "print(arr.ndim)"
   ]
  },
  {
   "cell_type": "markdown",
   "id": "ef6b771a",
   "metadata": {},
   "source": [
    "### Q31: Write code to demonstrate concept of Lamda Functions"
   ]
  },
  {
   "cell_type": "code",
   "execution_count": 59,
   "id": "58448a4b",
   "metadata": {},
   "outputs": [
    {
     "data": {
      "text/plain": [
       "27"
      ]
     },
     "execution_count": 59,
     "metadata": {},
     "output_type": "execute_result"
    }
   ],
   "source": [
    "# Your code here\n",
    "x= lambda x: x*x*x\n",
    "x(3)"
   ]
  },
  {
   "cell_type": "markdown",
   "id": "bdbd9620",
   "metadata": {},
   "source": [
    "### Q32: Write code using Streamlit for a Percentage calculation web app"
   ]
  },
  {
   "cell_type": "code",
   "execution_count": null,
   "id": "45157349",
   "metadata": {},
   "outputs": [],
   "source": [
    "import streamlit as st\n",
    "\n",
    "\n",
    "obtain_marks= st.number_input(\"Enter your obtain marks:\")\n",
    "total_marks= st.number_input(\"Enter Your total marks\")\n",
    "\n",
    "if st.button('calculate'):\n",
    "    percent= (obtain_marks / total_marks)*100\n",
    "    st.write(f\"Your percentage is {percent:.2f}\")"
   ]
  },
  {
   "cell_type": "markdown",
   "id": "bbaf912b",
   "metadata": {},
   "source": [
    "### Q33: Write code to Using Classes and Objects with Try and Except blocks "
   ]
  },
  {
   "cell_type": "code",
   "execution_count": 9,
   "id": "3d980e87",
   "metadata": {},
   "outputs": [
    {
     "name": "stdout",
     "output_type": "stream",
     "text": [
      " Sum is 2 and 5 = 7\n",
      " Product is 2 and 5 = 10\n"
     ]
    }
   ],
   "source": [
    "# Your code here\n",
    "class Calculator:\n",
    "    # def __init__(self):\n",
    "    #     self.num1=num1\n",
    "    def cal(self):\n",
    "        try:\n",
    "            self.num1 = int(input(\"Enter first number: \"))\n",
    "            self.num2= int(input(\"Enter second number: \"))\n",
    "\n",
    "            print(f\" Sum is {self.num1} and {self.num2} = {self.num1+self.num2}\")\n",
    "            print(f\" Product is {self.num1} and {self.num2} = {self.num1*self.num2}\")\n",
    "\n",
    "        except ValueError:\n",
    "            print(\"Invalid valuee Entered\")\n",
    "\n",
    "\n",
    "c1= Calculator()\n",
    "c1.cal()\n",
    "        "
   ]
  },
  {
   "cell_type": "markdown",
   "id": "5b9e3b58",
   "metadata": {},
   "source": [
    "### THE END..."
   ]
  }
 ],
 "metadata": {
  "kernelspec": {
   "display_name": "tf_env",
   "language": "python",
   "name": "python3"
  },
  "language_info": {
   "codemirror_mode": {
    "name": "ipython",
    "version": 3
   },
   "file_extension": ".py",
   "mimetype": "text/x-python",
   "name": "python",
   "nbconvert_exporter": "python",
   "pygments_lexer": "ipython3",
   "version": "3.10.16"
  }
 },
 "nbformat": 4,
 "nbformat_minor": 5
}
