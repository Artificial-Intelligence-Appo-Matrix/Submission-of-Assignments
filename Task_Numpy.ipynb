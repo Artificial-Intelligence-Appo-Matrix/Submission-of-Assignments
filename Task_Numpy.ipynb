{
 "cells": [
  {
   "cell_type": "code",
   "execution_count": null,
   "metadata": {
    "id": "eUruOc6OhUM1"
   },
   "outputs": [],
   "source": [
    "\n"
   ]
  },
  {
   "cell_type": "markdown",
   "metadata": {
    "id": "vHt0n9fwhnv5"
   },
   "source": [
    "# T**ask 1: What is NumPy?**\n",
    "\n",
    "# **Research and write a short explanation about NumPy.**\n",
    "\n",
    "# **Task 2: Why Use NumPy?**\n",
    "\n",
    "# **Write a few reasons why NumPy is useful.**\n",
    "\n",
    "# **Task 3: Why is NumPy Faster Than Lists?**\n",
    "\n",
    "# **Experiment with lists vs. NumPy arrays in performance.**\n",
    "\n",
    "# **Measure time for list**\n",
    "\n",
    "# **Measure time for NumPy array**\n",
    "\n",
    "# **Task 4: Which Language is NumPy written in?**\n",
    "\n",
    "# **Task 5:                                                                                                                                                                                                                                                                                  \n",
    "# **Command to install NumPy (run in terminal or command prompt)**\n",
    "\n",
    "# **Task 6: Dimensions in Arrays**\n",
    "\n",
    "# **Create arrays of different dimensions**\n",
    "\n",
    "# **Task 7: Copy and View Functions**\n",
    "\n",
    "# **Task 8: Join Two Arrays**\n",
    "\n",
    "# **Task 9: Joining Arrays Using Stack Functions**\n",
    "\n",
    "# **Task 10: Splitting NumPy Arrays**\n",
    "\n",
    "# **Task 11: Searching in NumPy Arrays**\n"
   ]
  },
  {
   "cell_type": "markdown",
   "metadata": {
    "id": "w7vZ6pPahZqy"
   },
   "source": [
    "\n",
    "# **Desired Output**\n"
   ]
  },
  {
   "cell_type": "code",
   "execution_count": 2,
   "metadata": {
    "colab": {
     "base_uri": "https://localhost:8080/"
    },
    "executionInfo": {
     "elapsed": 376,
     "status": "ok",
     "timestamp": 1738313118777,
     "user": {
      "displayName": "Muhammad Ali",
      "userId": "06259512089786041113"
     },
     "user_tz": -300
    },
    "id": "fVwMNUKNhbX-",
    "outputId": "ebd5ba02-27f0-4b3b-8be2-0523f7ac9e07"
   },
   "outputs": [
    {
     "name": "stdout",
     "output_type": "stream",
     "text": [
      "\n",
      "Time taken by list: 0.10277843475341797\n",
      "Time taken by NumPy: 0.009596824645996094\n",
      "1D Array: [1 2 3]\n",
      "2D Array: [[1 2 3]\n",
      " [4 5 6]]\n",
      "3D Array: [[[1 2]\n",
      "  [3 4]]\n",
      "\n",
      " [[5 6]\n",
      "  [7 8]]]\n",
      "Original: [99 20 30]\n",
      "Copy: [10 20 30]\n",
      "View: [99 20 30]\n",
      "Joined Array: [1 2 3 4 5 6]\n",
      "Stacked Vertically:\n",
      " [[1 2 3]\n",
      " [4 5 6]]\n",
      "Stacked Horizontally:\n",
      " [1 2 3 4 5 6]\n",
      "Stacked Depth:\n",
      " [[[1 4]\n",
      "  [2 5]\n",
      "  [3 6]]]\n",
      "Split Arrays: [array([1, 2]), array([3, 4]), array([5, 6])]\n",
      "Index of value 3 in joined_array: (array([2]),) \n"
     ]
    }
   ],
   "source": [
    "Desired_Output=\"\"\"\n",
    "Time taken by list: 0.10277843475341797\n",
    "Time taken by NumPy: 0.009596824645996094\n",
    "1D Array: [1 2 3]\n",
    "2D Array: [[1 2 3]\n",
    " [4 5 6]]\n",
    "3D Array: [[[1 2]\n",
    "  [3 4]]\n",
    "\n",
    " [[5 6]\n",
    "  [7 8]]]\n",
    "Original: [99 20 30]\n",
    "Copy: [10 20 30]\n",
    "View: [99 20 30]\n",
    "Joined Array: [1 2 3 4 5 6]\n",
    "Stacked Vertically:\n",
    " [[1 2 3]\n",
    " [4 5 6]]\n",
    "Stacked Horizontally:\n",
    " [1 2 3 4 5 6]\n",
    "Stacked Depth:\n",
    " [[[1 4]\n",
    "  [2 5]\n",
    "  [3 6]]]\n",
    "Split Arrays: [array([1, 2]), array([3, 4]), array([5, 6])]\n",
    "Index of value 3 in joined_array: (array([2]),) \"\"\"\n",
    "\n",
    "\n",
    "print(Desired_Output)\n"
   ]
  },
  {
   "cell_type": "code",
   "execution_count": null,
   "metadata": {
    "id": "W6WG4Ip0hha1"
   },
   "outputs": [],
   "source": [
    "# Question 1\n",
    "    # What is numpy? Research and write a short explanation about NumPy.\n",
    "    # Numpy stands for Numerical python, an open source library used for working with arrays it provides mathematical functions for working with arrays, such as linear algebra, numerical computing, and statistical operations It provides efficient multi-dimensional array objects and various mathematical functions for handling large datasets.\n",
    "    # Numpu arrays are fast, efficient, and essential for data-driven fields. "
   ]
  },
  {
   "cell_type": "code",
   "execution_count": null,
   "metadata": {},
   "outputs": [],
   "source": [
    "# Question 2\n",
    "    # Why to use numpy array? Write a few reasons why NumPy is useful\n",
    "    # 1 Fast as compared to lists\n",
    "    # 2 Less Memory Usage\n",
    "    # 3 provide Builin Mathematical function\n",
    "    # 4 Support to handle multi Dimensional Arrays"
   ]
  },
  {
   "cell_type": "code",
   "execution_count": null,
   "metadata": {},
   "outputs": [],
   "source": [
    "# Question 3\n",
    "# Why is NumPy Faster Than Lists? Experiment with lists vs. NumPy arrays in performance\n",
    "# Measure time for list\n",
    "# Measure time for NumPy array\n",
    "\n"
   ]
  },
  {
   "cell_type": "code",
   "execution_count": null,
   "metadata": {},
   "outputs": [],
   "source": [
    "# Question 4\n",
    "#Which Language is NumPy written in \n",
    "# "
   ]
  }
 ],
 "metadata": {
  "colab": {
   "authorship_tag": "ABX9TyP7ImqMGze/pvYbPu/uabsy",
   "provenance": []
  },
  "kernelspec": {
   "display_name": "Python 3",
   "name": "python3"
  },
  "language_info": {
   "name": "python"
  }
 },
 "nbformat": 4,
 "nbformat_minor": 0
}
