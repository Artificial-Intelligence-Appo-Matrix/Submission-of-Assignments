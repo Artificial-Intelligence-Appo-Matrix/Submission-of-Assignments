{
 "cells": [
  {
   "cell_type": "markdown",
   "metadata": {
    "id": "vHt0n9fwhnv5"
   },
   "source": [
    "# **Task 1: What is NumPy?**\n",
    "\n",
    "# **Research and write a short explanation about NumPy.**\n",
    "\n",
    "# **Task 2: Why Use NumPy?**\n",
    "\n",
    "# **Write a few reasons why NumPy is useful.**\n",
    "\n",
    "# **Task 3: Why is NumPy Faster Than Lists?**\n",
    "\n",
    "# **Experiment with lists vs. NumPy arrays in performance.**\n",
    "\n",
    "# **Measure time for list**\n",
    "\n",
    "# **Measure time for NumPy array**\n",
    "\n",
    "# **Task 4: Which Language is NumPy written in?**\n",
    "\n",
    "# **Task 5: Installation of NumPy**\n",
    "\n",
    "# **Command to install NumPy (run in terminal or command prompt)**\n",
    "\n",
    "# **Task 6: Dimensions in Arrays**\n",
    "\n",
    "# **Create arrays of different dimensions**\n",
    "\n",
    "# **Task 7: Copy and View Functions**\n",
    "\n",
    "# **Task 8: Join Two Arrays**\n",
    "\n",
    "# **Task 9: Joining Arrays Using Stack Functions**\n",
    "\n",
    "# **Task 10: Splitting NumPy Arrays**\n",
    "\n",
    "# **Task 11: Searching in NumPy Arrays**\n"
   ]
  },
  {
   "cell_type": "markdown",
   "metadata": {
    "id": "w7vZ6pPahZqy"
   },
   "source": [
    "\n",
    "# **Desired Output**\n"
   ]
  },
  {
   "cell_type": "code",
   "execution_count": 2,
   "metadata": {
    "colab": {
     "base_uri": "https://localhost:8080/"
    },
    "executionInfo": {
     "elapsed": 376,
     "status": "ok",
     "timestamp": 1738313118777,
     "user": {
      "displayName": "Muhammad Ali",
      "userId": "06259512089786041113"
     },
     "user_tz": -300
    },
    "id": "fVwMNUKNhbX-",
    "outputId": "ebd5ba02-27f0-4b3b-8be2-0523f7ac9e07"
   },
   "outputs": [
    {
     "name": "stdout",
     "output_type": "stream",
     "text": [
      "\n",
      "Time taken by list: 0.10277843475341797\n",
      "Time taken by NumPy: 0.009596824645996094\n",
      "1D Array: [1 2 3]\n",
      "2D Array: [[1 2 3]\n",
      " [4 5 6]]\n",
      "3D Array: [[[1 2]\n",
      "  [3 4]]\n",
      "\n",
      " [[5 6]\n",
      "  [7 8]]]\n",
      "Original: [99 20 30]\n",
      "Copy: [10 20 30]\n",
      "View: [99 20 30]\n",
      "Joined Array: [1 2 3 4 5 6]\n",
      "Stacked Vertically:\n",
      " [[1 2 3]\n",
      " [4 5 6]]\n",
      "Stacked Horizontally:\n",
      " [1 2 3 4 5 6]\n",
      "Stacked Depth:\n",
      " [[[1 4]\n",
      "  [2 5]\n",
      "  [3 6]]]\n",
      "Split Arrays: [array([1, 2]), array([3, 4]), array([5, 6])]\n",
      "Index of value 3 in joined_array: (array([2]),) \n"
     ]
    }
   ],
   "source": [
    "Desired_Output=\"\"\"\n",
    "Time taken by list: 0.10277843475341797\n",
    "Time taken by NumPy: 0.009596824645996094\n",
    "1D Array: [1 2 3]\n",
    "2D Array: [[1 2 3]\n",
    " [4 5 6]]\n",
    "3D Array: [[[1 2]\n",
    "  [3 4]]\n",
    "\n",
    " [[5 6]\n",
    "  [7 8]]]\n",
    "Original: [99 20 30]\n",
    "Copy: [10 20 30]\n",
    "View: [99 20 30]\n",
    "Joined Array: [1 2 3 4 5 6]\n",
    "Stacked Vertically:\n",
    " [[1 2 3]\n",
    " [4 5 6]]\n",
    "Stacked Horizontally:\n",
    " [1 2 3 4 5 6]\n",
    "Stacked Depth:\n",
    " [[[1 4]\n",
    "  [2 5]\n",
    "  [3 6]]]\n",
    "Split Arrays: [array([1, 2]), array([3, 4]), array([5, 6])]\n",
    "Index of value 3 in joined_array: (array([2]),) \"\"\"\n",
    "\n",
    "\n",
    "print(Desired_Output)\n"
   ]
  },
  {
   "cell_type": "code",
   "execution_count": 1,
   "metadata": {
    "id": "W6WG4Ip0hha1"
   },
   "outputs": [],
   "source": [
    "# Question 1\n",
    "    # What is numpy? Research and write a short explanation about NumPy.\n",
    "    # Numpy stands for Numerical python, an open source library used for working with arrays it provides mathematical functions for working with arrays, such as linear algebra, numerical computing, and statistical operations It provides efficient multi-dimensional array objects and various mathematical functions for handling large datasets.\n",
    "    # Numpy arrays are fast, efficient, and essential for data-driven fields. "
   ]
  },
  {
   "cell_type": "code",
   "execution_count": 2,
   "metadata": {},
   "outputs": [],
   "source": [
    "# Question 2\n",
    "    # Why to use numpy array? Write a few reasons why NumPy is useful\n",
    "    # 1 Fast as compared to lists\n",
    "    # 2 Less Memory Usage\n",
    "    # 3 provide Builin Mathematical function\n",
    "    # 4 Support to handle multi Dimensional Arrays"
   ]
  },
  {
   "cell_type": "code",
   "execution_count": 5,
   "metadata": {},
   "outputs": [
    {
     "name": "stdout",
     "output_type": "stream",
     "text": [
      "Time taken by Python list: 0.15039968490600586\n",
      "-----------------------------------\n",
      "Time taken by NumPy array: 0.003996849060058594\n"
     ]
    }
   ],
   "source": [
    "# Question 3\n",
    "# Why is NumPy Faster Than Lists? Experiment with lists vs. NumPy arrays in performance\n",
    "# Measure time for list\n",
    "# Measure time for NumPy array\n",
    "\n",
    "# 1. NumPy’s code is written in C and C++, which is faster than Python’s interpreted code.\n",
    "# 2. Numpy array perform operationsonentire array at once (vectorization)\n",
    "# 3. it also store data in continuous memory block\n",
    "\n",
    "import numpy as np\n",
    "import time\n",
    "\n",
    "py_list = [i for i in range(1000000)]\n",
    "t1 = time.time()\n",
    "new_list = [x + 2 for x in py_list]  \n",
    "t2 = time.time()\n",
    "\n",
    "print(\"Time taken by Python list:\", t2 - t1)\n",
    "print(\"-----------------------------------\")\n",
    "\n",
    "\n",
    "np_arr = np.arange(1000000)  \n",
    "\n",
    "t3 = time.time()\n",
    "new_arr = np_arr + 2  \n",
    "t4 = time.time()\n",
    "\n",
    "print(\"Time taken by NumPy array:\", t4 - t3)\n"
   ]
  },
  {
   "cell_type": "code",
   "execution_count": 6,
   "metadata": {},
   "outputs": [],
   "source": [
    "# Question 4\n",
    "#Which Language is NumPy written in \n",
    "# NumPy is partially written in C and C++ . The high-level API is written in Python, but all heavy computations are handled by optimized C and C++ code."
   ]
  },
  {
   "cell_type": "code",
   "execution_count": 7,
   "metadata": {},
   "outputs": [],
   "source": [
    "# Question 5\n",
    "# Installation of NumPy Command to install NumPy (run in terminal or command prompt)                                                                                                                                                                                                                                                                                \n",
    "# **Command to install NumPy (run in terminal or command prompt) \n",
    "\n",
    "# pip install numpy"
   ]
  },
  {
   "cell_type": "code",
   "execution_count": 8,
   "metadata": {},
   "outputs": [
    {
     "name": "stdout",
     "output_type": "stream",
     "text": [
      "-----0D array-----\n",
      "5\n",
      "Dimension:  0\n",
      "-----1D array-----\n",
      "[1 0 4 6 3]\n",
      "Dimension:  1\n",
      "-----2D array-----\n",
      "[[1 0 4 6 3]\n",
      " [8 3 6 9 1]]\n",
      "Dimension:  2\n",
      "-----3D array-----\n",
      "[[[1 6 3]\n",
      "  [5 9 1]]\n",
      "\n",
      " [[1 0 4]\n",
      "  [7 2 1]]]\n",
      "Dimension:  3\n",
      "-----nD array-----\n",
      "[[[[[[[2 4 6 7]]]]]]]\n",
      "Dimension:  7\n"
     ]
    }
   ],
   "source": [
    "# Question 6\n",
    "# Dimensions in Arrays**\n",
    "\n",
    "# 0-D (Zero-Dimensional Array) Scalar\n",
    "print(\"-----0D array-----\")\n",
    "arr1=np.array(5)\n",
    "print(arr1)\n",
    "print(\"Dimension: \",arr1.ndim)\n",
    "\n",
    "# print(\"Type of array: \",type(arr1))\n",
    "# print(\"Size of array: \",arr1.size)\n",
    "# print(\"Shape (Rows and columns of array): \",arr1.shape)\n",
    "\n",
    "print(\"-----1D array-----\")\n",
    "arr2=np.array([1,0,4,6,3])\n",
    "print(arr2)\n",
    "print(\"Dimension: \",arr2.ndim)\n",
    "# print(\"Type of array: \",type(arr2))\n",
    "# print(\"Size of array: \",arr2.size)\n",
    "# print(\"Shape (Rows and columns of array): \",arr2.shape)\n",
    "\n",
    "print(\"-----2D array-----\")\n",
    "arr2=np.array([[1,0,4,6,3],[8,3,6,9,1]])\n",
    "print(arr2)\n",
    "print(\"Dimension: \",arr2.ndim)\n",
    "\n",
    "print(\"-----3D array-----\")\n",
    "arr3=np.array([[[1,6,3],[5,9,1]],[[1,0,4],[7,2,1]]])\n",
    "print(arr3)\n",
    "print(\"Dimension: \",arr3.ndim)\n",
    "\n",
    "print(\"-----nD array-----\")\n",
    "# arr3=np.array([[[[1,3],[5,1]],[[2,4],[7,0]]]])\n",
    "# print(arr3)\n",
    "# print(\"Dimension: \",arr3.ndim)\n",
    "arr3=np.array([2,4,6,7],ndmin=7)\n",
    "print(arr3)\n",
    "print(\"Dimension: \",arr3.ndim)\n",
    "\n",
    "\n",
    "\n"
   ]
  },
  {
   "cell_type": "code",
   "execution_count": 11,
   "metadata": {},
   "outputs": [
    {
     "name": "stdout",
     "output_type": "stream",
     "text": [
      "original:  [2 4 6 8]\n",
      "Copied  :  [1 3 5 7]\n",
      "\n",
      "original:  [ 2  4  6  8 10]\n",
      "Viewed  :  [ 2  4  6  8 10]\n"
     ]
    }
   ],
   "source": [
    "# Question 7\n",
    "# Copy and View Functions**\n",
    "arr1=np.array([2,4,6,8])\n",
    "new_arr1=arr1.copy()\n",
    "new_arr1-=1\n",
    "print(\"original: \",arr1)\n",
    "print(\"Copied  : \",new_arr1)\n",
    "print()\n",
    "\n",
    "arr2=np.array([1,2,3,4,5])\n",
    "new_arr2=arr2.view()\n",
    "new_arr2*=2\n",
    "print(\"original: \",arr2)\n",
    "print(\"Viewed  : \",new_arr2)"
   ]
  },
  {
   "cell_type": "code",
   "execution_count": 12,
   "metadata": {},
   "outputs": [
    {
     "name": "stdout",
     "output_type": "stream",
     "text": [
      "Array 1:       [3 1 0 9]\n",
      "Array 2:       [8 5 2 5]\n",
      "After joining: [3 1 0 9 8 5 2 5]\n"
     ]
    }
   ],
   "source": [
    "# Question 8:\n",
    "# Join Two Arrays**\n",
    "\n",
    "arr1=np.array([3,1,0,9])\n",
    "arr2=np.array([8,5,2,5])\n",
    "print(\"Array 1:      \",arr1)\n",
    "print(\"Array 2:      \",arr2)\n",
    "arr3=np.concatenate((arr1,arr2), axis=0)\n",
    "print(\"After joining:\",arr3)\n",
    "\n",
    "\n"
   ]
  },
  {
   "cell_type": "code",
   "execution_count": 13,
   "metadata": {},
   "outputs": [
    {
     "name": "stdout",
     "output_type": "stream",
     "text": [
      "[[4 6 7]\n",
      " [1 3 0]]\n",
      "[[4 1]\n",
      " [6 3]\n",
      " [7 0]]\n",
      "[4 6 7 1 3 0]\n",
      "[[4 6 7]\n",
      " [1 3 0]]\n",
      "[[[4 1]\n",
      "  [6 3]\n",
      "  [7 0]]]\n"
     ]
    }
   ],
   "source": [
    "# Question 9\n",
    "# Joining Arrays Using Stack Functions\n",
    "arr1=np.array([4,6,7])\n",
    "arr2=np.array([1,3,0])\n",
    "\n",
    "arr=np.stack((arr1,arr2), axis=0)\n",
    "print(arr)\n",
    "arr=np.stack((arr1,arr2), axis=1)\n",
    "print(arr)\n",
    "\n",
    "\n",
    "arr=np.hstack((arr1,arr2)) # stack dimension of both arrays to horizontal direction\n",
    "print(arr)\n",
    "arr=np.vstack((arr1,arr2)) # atack all elements in vertical direction first elemeny of all dimension is stacked to first column\n",
    "print(arr)\n",
    "arr=np.dstack((arr1,arr2)) # stack all elements in that are in  corresponding column of both arrays to row\n",
    "print(arr)\n"
   ]
  },
  {
   "cell_type": "code",
   "execution_count": 15,
   "metadata": {},
   "outputs": [
    {
     "name": "stdout",
     "output_type": "stream",
     "text": [
      "[array([1, 2]), array([3, 4]), array([5, 7])]\n"
     ]
    }
   ],
   "source": [
    "# Question 10\n",
    "# Splitting NumPy Arrays\n",
    "arr = np.array([1, 2,3, 4, 5,7])\n",
    "\n",
    "# Split into 3 sub-arrays along rows\n",
    "result = np.array_split(arr, 3)\n",
    "print(result)\n"
   ]
  },
  {
   "cell_type": "code",
   "execution_count": null,
   "metadata": {},
   "outputs": [],
   "source": [
    "# Question 11\n",
    "# Searching in NumPy Arrays\n",
    "arr=np.array([2,4,6,8,7,9,0,3,5,6,7,8,2])\n",
    "x= np.where(arr>5)\n",
    "print(x)"
   ]
  }
 ],
 "metadata": {
  "colab": {
   "authorship_tag": "ABX9TyP7ImqMGze/pvYbPu/uabsy",
   "provenance": []
  },
  "kernelspec": {
   "display_name": "base",
   "language": "python",
   "name": "python3"
  },
  "language_info": {
   "codemirror_mode": {
    "name": "ipython",
    "version": 3
   },
   "file_extension": ".py",
   "mimetype": "text/x-python",
   "name": "python",
   "nbconvert_exporter": "python",
   "pygments_lexer": "ipython3",
   "version": "3.11.7"
  }
 },
 "nbformat": 4,
 "nbformat_minor": 0
}
